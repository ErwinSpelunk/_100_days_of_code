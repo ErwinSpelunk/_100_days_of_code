{
 "cells": [
  {
   "cell_type": "markdown",
   "metadata": {},
   "source": [
    "# Day 7\r\n",
    "## of 100 days of code\r\n",
    "\r\n",
    "DATE: 2021-06-05"
   ]
  },
  {
   "cell_type": "code",
   "execution_count": 2,
   "metadata": {},
   "outputs": [
    {
     "name": "stdout",
     "output_type": "stream",
     "text": [
      "Olá!\n"
     ]
    }
   ],
   "source": [
    "def my_function():\n",
    "    return print(\"Olá!\")\n",
    "\n",
    "my_function()"
   ]
  },
  {
   "cell_type": "markdown",
   "metadata": {},
   "source": [
    "### tabs or spaces?\n",
    "\n",
    "Official style guide: 4 Spaces\n",
    "\n",
    "You can tell IDEs to replace tab by 4 spaces (btw. programmers who use space earn more;)"
   ]
  },
  {
   "cell_type": "markdown",
   "metadata": {},
   "source": [
    "### Exercises 7-1"
   ]
  }
 ],
 "metadata": {
  "interpreter": {
   "hash": "155f34edff4f9ca243d67e675b42680a07c25f53d0738dbe0be9e3b73ef7e13a"
  },
  "kernelspec": {
   "display_name": "Python 3.9.5 64-bit",
   "name": "python3"
  },
  "language_info": {
   "codemirror_mode": {
    "name": "ipython",
    "version": 3
   },
   "file_extension": ".py",
   "mimetype": "text/x-python",
   "name": "python",
   "nbconvert_exporter": "python",
   "pygments_lexer": "ipython3",
   "version": "3.9.5"
  }
 },
 "nbformat": 4,
 "nbformat_minor": 5
}