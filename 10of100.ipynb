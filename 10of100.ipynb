{
 "cells": [
  {
   "cell_type": "markdown",
   "metadata": {},
   "source": [
    "# Day 10 - Functions with outputs\n",
    "## of 100 days of code\n",
    "\n",
    "DATE: 2021-10-23"
   ]
  },
  {
   "cell_type": "markdown",
   "metadata": {},
   "source": [
    "Don't forget: draw.io for creating flowcharts."
   ]
  },
  {
   "cell_type": "markdown",
   "metadata": {},
   "source": [
    "### Functions:\n",
    "So far: plain functions, functions with inputs.\n",
    "Now we add outputs"
   ]
  },
  {
   "cell_type": "code",
   "execution_count": 1,
   "id": "c36951e1",
   "metadata": {},
   "outputs": [],
   "source": [
    "def my_function(input):\n",
    "    # do things with input\n",
    "    # to calculate an output\n",
    "    output = 3*input\n",
    "    return output"
   ]
  },
  {
   "cell_type": "markdown",
   "id": "472f0762",
   "metadata": {},
   "source": [
    "### Function with outputs\n",
    "Create a Name-Formatter that capitalizes the first letter of a name input.\n",
    "\n",
    "Note the alphanumeric differences!"
   ]
  },
  {
   "cell_type": "code",
   "execution_count": 10,
   "id": "c623a820",
   "metadata": {},
   "outputs": [
    {
     "name": "stdout",
     "output_type": "stream",
     "text": [
      "Lar5ib0y Schmarsiboy\n"
     ]
    }
   ],
   "source": [
    "# example function with outputs\n",
    "\n",
    "def format_name(f_name, l_name):\n",
    "    bigf_name = f_name[:1].upper()+f_name[1:].lower()\n",
    "    bigl_name = l_name[:1].upper()+l_name[1:].lower()\n",
    "    return bigf_name+\" \"+bigl_name\n",
    "\n",
    "print(format_name(\"lar5ib0y\", \"schmARSiboY\"))"
   ]
  },
  {
   "cell_type": "markdown",
   "id": "9dceb7a2",
   "metadata": {},
   "source": [
    "### Better with title function"
   ]
  },
  {
   "cell_type": "code",
   "execution_count": 9,
   "id": "660688b4",
   "metadata": {},
   "outputs": [
    {
     "name": "stdout",
     "output_type": "stream",
     "text": [
      "Lar5Ib0Y Schmarsiboy\n"
     ]
    }
   ],
   "source": [
    "# example function with outputs\n",
    "\n",
    "def format_name(f_name, l_name):\n",
    "    bigf_name = f_name.title()\n",
    "    bigl_name = l_name.title()\n",
    "    return f\"{bigf_name} {bigl_name}\"\n",
    "\n",
    "print(format_name(\"lar5ib0y\", \"schmARSiboY\"))"
   ]
  },
  {
   "cell_type": "markdown",
   "id": "a417aea9",
   "metadata": {},
   "source": [
    "### Return\n",
    "Return marks end of function and terminates it. No other Code will run after the _return_ statement. This can be used to avoid running a function that has not been provided anything to process, catch errors, etc."
   ]
  },
  {
   "cell_type": "markdown",
   "metadata": {},
   "source": []
  },
  {
   "cell_type": "code",
   "execution_count": 15,
   "id": "13c2bf9c",
   "metadata": {},
   "outputs": [
    {
     "name": "stdout",
     "output_type": "stream",
     "text": [
      "Lar5Ib0Y Schmarsiboy\n",
      "You did not provide inputs.\n"
     ]
    }
   ],
   "source": [
    "def format_name(f_name, l_name):\n",
    "    if f_name ==\"\" or l_name == \"\":\n",
    "        return \"You did not provide inputs.\"\n",
    "    bigf_name = f_name.title()\n",
    "    bigl_name = l_name.title()\n",
    "    return f\"{bigf_name} {bigl_name}\"\n",
    "\n",
    "print(format_name(\"lar5ib0y\", \"schmARSiboY\"))\n",
    "test_name = input(\"What is your first Name? \")\n",
    "test_name = input(\"What is your last Name? \")\n",
    "print(format_name(test_name,test_name))"
   ]
  },
  {
   "cell_type": "markdown",
   "id": "d48d5164",
   "metadata": {},
   "source": [
    "## Exercise 10-1 Days in Month\n",
    "Instructions\n",
    "\n",
    "In the starting code, you'll find the solution from the Leap Year challenge. First, convert this function is_leap() so that instead of printing \"Leap year.\" or \"Not leap year.\" it should return True if it is a leap year and return False if it is not a leap year.\n",
    "\n",
    "You are then going to create a function called days_in_month() which will take a year and a month as inputs, e.g.\n",
    "\n",
    "days_in_month(year=2022, month=2)\n",
    "\n",
    "And it will use this information to work out the number of days in the month, then return that as the output, e.g.:\n",
    "\n",
    "28\n",
    "\n",
    "The List month_days contains the number of days in a month from January to December for a non-leap year. A leap year has 29 days in February.\n",
    "Hint\n",
    "\n",
    "    Look at the function call at the bottom of the code to see the positional arguments. The order is very important.\n",
    "\n",
    "    Feel free to choose your own parameter names.\n",
    "\n",
    "    Remember that month_days is a List and Lists in Python start at position 0. So the number of days in January is month_days[0]\n",
    "\n",
    "    Be careful with indentation.\n",
    "\n",
    "Test Your Code\n",
    "\n",
    "Before checking the solution, try copy-pasting your code into this repl:\n",
    "\n",
    "https://repl.it/@appbrewery/day-10-1-test-your-code\n",
    "\n",
    "This repl includes my testing code that will check if your code meets this assignment's objectives.\n",
    "Solution\n",
    "\n",
    "https://repl.it/@appbrewery/day-10-1-solution"
   ]
  },
  {
   "cell_type": "code",
   "execution_count": 22,
   "id": "1d79d3d0",
   "metadata": {},
   "outputs": [
    {
     "ename": "ValueError",
     "evalue": "invalid literal for int() with base 10: 'XX'",
     "output_type": "error",
     "traceback": [
      "\u001b[1;31m---------------------------------------------------------------------------\u001b[0m",
      "\u001b[1;31mValueError\u001b[0m                                Traceback (most recent call last)",
      "\u001b[1;32m~\\AppData\\Local\\Temp/ipykernel_14916/2454710135.py\u001b[0m in \u001b[0;36m<module>\u001b[1;34m\u001b[0m\n\u001b[0;32m     21\u001b[0m \u001b[1;33m\u001b[0m\u001b[0m\n\u001b[0;32m     22\u001b[0m \u001b[1;31m#🚨 Do NOT change any of the code below\u001b[0m\u001b[1;33m\u001b[0m\u001b[1;33m\u001b[0m\u001b[0m\n\u001b[1;32m---> 23\u001b[1;33m \u001b[0myear\u001b[0m \u001b[1;33m=\u001b[0m \u001b[0mint\u001b[0m\u001b[1;33m(\u001b[0m\u001b[0minput\u001b[0m\u001b[1;33m(\u001b[0m\u001b[1;34m\"Enter a year: \"\u001b[0m\u001b[1;33m)\u001b[0m\u001b[1;33m)\u001b[0m\u001b[1;33m\u001b[0m\u001b[1;33m\u001b[0m\u001b[0m\n\u001b[0m\u001b[0;32m     24\u001b[0m \u001b[0mmonth\u001b[0m \u001b[1;33m=\u001b[0m \u001b[0mint\u001b[0m\u001b[1;33m(\u001b[0m\u001b[0minput\u001b[0m\u001b[1;33m(\u001b[0m\u001b[1;34m\"Enter a month: \"\u001b[0m\u001b[1;33m)\u001b[0m\u001b[1;33m)\u001b[0m\u001b[1;33m\u001b[0m\u001b[1;33m\u001b[0m\u001b[0m\n\u001b[0;32m     25\u001b[0m \u001b[0mdays\u001b[0m \u001b[1;33m=\u001b[0m \u001b[0mdays_in_month\u001b[0m\u001b[1;33m(\u001b[0m\u001b[0myear\u001b[0m\u001b[1;33m,\u001b[0m \u001b[0mmonth\u001b[0m\u001b[1;33m)\u001b[0m\u001b[1;33m\u001b[0m\u001b[1;33m\u001b[0m\u001b[0m\n",
      "\u001b[1;31mValueError\u001b[0m: invalid literal for int() with base 10: 'XX'"
     ]
    }
   ],
   "source": [
    "def is_leap(year):\n",
    "  if year % 4 == 0:\n",
    "    if year % 100 == 0:\n",
    "      if year % 400 == 0:\n",
    "        return True\n",
    "      else:\n",
    "        return False\n",
    "    else:\n",
    "      return True\n",
    "  else:\n",
    "    return False\n",
    "\n",
    "def days_in_month(year, month):\n",
    "  month_days = [31, 28, 31, 30, 31, 30, 31, 31, 30, 31, 30, 31]\n",
    "  if not is_leap(year):\n",
    "    return month_days[month-1]\n",
    "  elif is_leap(year):\n",
    "    return 29 if month == 2 else month_days[month-1]\n",
    "  else:\n",
    "    return \"Something went wrong, and that is bad.\"\n",
    "  \n",
    "#🚨 Do NOT change any of the code below \n",
    "year = int(input(\"Enter a year: \"))\n",
    "month = int(input(\"Enter a month: \"))\n",
    "days = days_in_month(year, month)\n",
    "print(days)"
   ]
  },
  {
   "cell_type": "markdown",
   "id": "bcf8fc38",
   "metadata": {},
   "source": [
    "### Angela's Solution:"
   ]
  },
  {
   "cell_type": "code",
   "execution_count": 28,
   "id": "8994024e",
   "metadata": {},
   "outputs": [
    {
     "name": "stdout",
     "output_type": "stream",
     "text": [
      "30\n"
     ]
    }
   ],
   "source": [
    "def is_leap(year):\n",
    "  if year % 4 == 0:\n",
    "    if year % 100 == 0:\n",
    "      if year % 400 == 0:\n",
    "        return True\n",
    "      else:\n",
    "        return False\n",
    "    else:\n",
    "      return True\n",
    "  else:\n",
    "    return False\n",
    "\n",
    "def days_in_month(year, month):\n",
    "  if not (year > 0 and 0 < month < 13):\n",
    "      return \"Error!\"\n",
    "  month_days = [31, 28, 31, 30, 31, 30, 31, 31, 30, 31, 30, 31]\n",
    "  if is_leap(year) and month == 2:\n",
    "    return 29\n",
    "  else:\n",
    "    return month_days[month-1]\n",
    "  \n",
    "#🚨 Do NOT change any of the code below \n",
    "year = int(input(\"Enter a year: \"))\n",
    "month = int(input(\"Enter a month: \"))\n",
    "days = days_in_month(year, month)\n",
    "print(days)"
   ]
  },
  {
   "cell_type": "markdown",
   "id": "8619ecd1",
   "metadata": {},
   "source": [
    "## Docstrings\n",
    "\n",
    "Documenting Text that pops up when calling a function or generally describes it."
   ]
  },
  {
   "cell_type": "code",
   "execution_count": 32,
   "id": "c23fa6b4",
   "metadata": {},
   "outputs": [
    {
     "name": "stdout",
     "output_type": "stream",
     "text": [
      "Larsiboy Schmarsiboy\n"
     ]
    }
   ],
   "source": [
    "def format_name(f_name, l_name):\n",
    "    \"\"\"\n",
    "    Capitalizes input.\n",
    "    ------------------\n",
    "    f_name : str, first name\n",
    "    l_name : str, last name\n",
    "    ------------------\n",
    "    return : str, capitalized first and last name seperated by \" \"\n",
    "    \"\"\"\n",
    "    if f_name ==\"\" or l_name == \"\":\n",
    "        return \"You did not provide inputs.\"\n",
    "    bigf_name = f_name.title()\n",
    "    bigl_name = l_name.title()\n",
    "    return f\"{bigf_name} {bigl_name}\"\n",
    "\n",
    "print(format_name(\"lARSibOy\", \"SchMARsiboy\"))"
   ]
  },
  {
   "cell_type": "markdown",
   "id": "b7890250",
   "metadata": {},
   "source": [
    "## Exercise 10-1 Calculator"
   ]
  },
  {
   "cell_type": "code",
   "execution_count": 34,
   "id": "e0852569",
   "metadata": {},
   "outputs": [
    {
     "name": "stdout",
     "output_type": "stream",
     "text": [
      "\n",
      " _____________________\n",
      "|  _________________  |\n",
      "| | Pythonista   0. | |  .----------------.  .----------------.  .----------------.  .----------------. \n",
      "| |_________________| | | .--------------. || .--------------. || .--------------. || .--------------. |\n",
      "|  ___ ___ ___   ___  | | |     ______   | || |      __      | || |   _____      | || |     ______   | |\n",
      "| | 7 | 8 | 9 | | + | | | |   .' ___  |  | || |     /  \\     | || |  |_   _|     | || |   .' ___  |  | |\n",
      "| |___|___|___| |___| | | |  / .'   \\_|  | || |    / /\\ \\    | || |    | |       | || |  / .'   \\_|  | |\n",
      "| | 4 | 5 | 6 | | - | | | |  | |         | || |   / ____ \\   | || |    | |   _   | || |  | |         | |\n",
      "| |___|___|___| |___| | | |  \\ `.___.'\\  | || | _/ /    \\ \\_ | || |   _| |__/ |  | || |  \\ `.___.'\\  | |\n",
      "| | 1 | 2 | 3 | | x | | | |   `._____.'  | || ||____|  |____|| || |  |________|  | || |   `._____.'  | |\n",
      "| |___|___|___| |___| | | |              | || |              | || |              | || |              | |\n",
      "| | . | 0 | = | | / | | | '--------------' || '--------------' || '--------------' || '--------------' |\n",
      "| |___|___|___| |___| |  '----------------'  '----------------'  '----------------'  '----------------' \n",
      "|_____________________|\n",
      "\n",
      "1.0 + 3.0 = 4.0\n"
     ]
    }
   ],
   "source": [
    "from modules import calculator_logo\n",
    "\n",
    "# Operations\n",
    "def add(n1, n2):\n",
    "    return n1 + n2\n",
    "def subtract(n1, n2):\n",
    "    return n1 - n2\n",
    "def multiply(n1, n2):\n",
    "    return n1 * n2\n",
    "def divide(n1, n2):\n",
    "    return n1 / n2        \n",
    "\n",
    "operations = {\n",
    "    \"+\" : add,\n",
    "    \"-\" : subtract,\n",
    "    \"*\" : multiply,\n",
    "    \"/\" : divide,\n",
    "}\n",
    "# test\n",
    "# print(operations[\"+\"](1,2))\n",
    "def calculator():\n",
    "    print(calculator_logo)\n",
    "    num1 = float(input(\"First Number: \"))\n",
    "    oper = input(f\"Pick an Operator from {[key for key in operations]}\")\n",
    "    num2 = float(input(\"Second Number: \"))\n",
    "    result = operations[oper](num1,num2)\n",
    "    print(f\"{num1} {oper} {num2} = {operations[oper](num1,num2)}\")\n",
    "\n",
    "    goon = bool(\"y\" == input(\"Want to continue calculating?\"))\n",
    "    if not goon:\n",
    "            if bool(\"y\" == input(\"Want to start fresh? \")):\n",
    "                calculator()\n",
    "    while goon:\n",
    "        oper = input(f\"Pick another Operator from {[key for key in operations]}\")\n",
    "        num3 = float(input(\"Another Number: \"))\n",
    "        print(f\"{result} {oper} {num3} = {operations[oper](result,num3)}\")\n",
    "        result = operations[oper](result,num3)\n",
    "        goon = bool(\"y\" == input(\"Want to continue calculating? \"))\n",
    "        if not goon:\n",
    "            if bool(\"y\" == input(\"Want to start fresh? \")):\n",
    "                calculator()\n",
    "        else:\n",
    "            pass\n",
    "\n",
    "calculator()"
   ]
  }
 ],
 "metadata": {
  "interpreter": {
   "hash": "155f34edff4f9ca243d67e675b42680a07c25f53d0738dbe0be9e3b73ef7e13a"
  },
  "kernelspec": {
   "display_name": "Python 3.9.7 64-bit",
   "name": "python3"
  },
  "language_info": {
   "codemirror_mode": {
    "name": "ipython",
    "version": 3
   },
   "file_extension": ".py",
   "mimetype": "text/x-python",
   "name": "python",
   "nbconvert_exporter": "python",
   "pygments_lexer": "ipython3",
   "version": "3.9.7"
  }
 },
 "nbformat": 4,
 "nbformat_minor": 5
}
