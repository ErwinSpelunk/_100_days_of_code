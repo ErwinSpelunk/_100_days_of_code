{
 "cells": [
  {
   "cell_type": "markdown",
   "id": "2a04f118",
   "metadata": {},
   "source": [
    "# Day 2\n",
    "## of 100 days of code\n",
    "\n",
    "DATE: 2021-04-11"
   ]
  },
  {
   "cell_type": "markdown",
   "id": "5e9a7b5d",
   "metadata": {},
   "source": [
    "Get used to datatypes and strings"
   ]
  },
  {
   "cell_type": "code",
   "execution_count": 3,
   "id": "ebaf9e67",
   "metadata": {},
   "outputs": [
    {
     "name": "stdout",
     "output_type": "stream",
     "text": [
      "H\n",
      "o\n",
      "o\n"
     ]
    }
   ],
   "source": [
    "print(\"Hello\"[0])\n",
    "print(\"Hello\"[4])\n",
    "print(\"Hello\"[-1])"
   ]
  },
  {
   "cell_type": "code",
   "execution_count": 12,
   "id": "81e93eb6",
   "metadata": {},
   "outputs": [
    {
     "name": "stdout",
     "output_type": "stream",
     "text": [
      "123345\n",
      "468\n",
      "123456789\n",
      "123456789\n"
     ]
    }
   ],
   "source": [
    "print(\"123\"+\"345\")\n",
    "print(123+345)\n",
    "print(123_456_789) # can use _ for (e.g. thousands) delimiter and easier readability\n",
    "print(12_3456_789)"
   ]
  },
  {
   "cell_type": "code",
   "execution_count": 10,
   "id": "e69ce088",
   "metadata": {},
   "outputs": [
    {
     "name": "stdout",
     "output_type": "stream",
     "text": [
      "3.141\n",
      "True\n"
     ]
    }
   ],
   "source": [
    "print(3.141) # float\n",
    "print(1==1) # boolean"
   ]
  },
  {
   "cell_type": "code",
   "execution_count": 13,
   "id": "f7b4b5d8",
   "metadata": {},
   "outputs": [
    {
     "ename": "TypeError",
     "evalue": "object of type 'int' has no len()",
     "output_type": "error",
     "traceback": [
      "\u001b[1;31m---------------------------------------------------------------------------\u001b[0m",
      "\u001b[1;31mTypeError\u001b[0m                                 Traceback (most recent call last)",
      "\u001b[1;32m<ipython-input-13-a95e54e61f62>\u001b[0m in \u001b[0;36m<module>\u001b[1;34m\u001b[0m\n\u001b[1;32m----> 1\u001b[1;33m \u001b[0mlen\u001b[0m\u001b[1;33m(\u001b[0m\u001b[1;36m123\u001b[0m\u001b[1;33m)\u001b[0m\u001b[1;33m\u001b[0m\u001b[1;33m\u001b[0m\u001b[0m\n\u001b[0m",
      "\u001b[1;31mTypeError\u001b[0m: object of type 'int' has no len()"
     ]
    }
   ],
   "source": [
    "len(123)"
   ]
  },
  {
   "cell_type": "code",
   "execution_count": 18,
   "id": "a63096eb",
   "metadata": {},
   "outputs": [
    {
     "name": "stdin",
     "output_type": "stream",
     "text": [
      "What is your name? bob\n"
     ]
    },
    {
     "name": "stdout",
     "output_type": "stream",
     "text": [
      "Your name has 3characters.\n"
     ]
    }
   ],
   "source": [
    "num_char = len(input(\"What is your name?\"))\n",
    "num_int = str(num_char)\n",
    "print(\"Your name has \" + num_int + \" characters.\")"
   ]
  },
  {
   "cell_type": "code",
   "execution_count": 19,
   "id": "65809cd9",
   "metadata": {},
   "outputs": [
    {
     "name": "stdout",
     "output_type": "stream",
     "text": [
      "<class 'int'>\n",
      "<class 'str'>\n"
     ]
    }
   ],
   "source": [
    "# type check\n",
    "print(type(num_char))\n",
    "print(type(num_int))"
   ]
  },
  {
   "cell_type": "code",
   "execution_count": 20,
   "id": "9641c730",
   "metadata": {},
   "outputs": [
    {
     "ename": "ValueError",
     "evalue": "invalid literal for int() with base 10: 'bob'",
     "output_type": "error",
     "traceback": [
      "\u001b[1;31m---------------------------------------------------------------------------\u001b[0m",
      "\u001b[1;31mValueError\u001b[0m                                Traceback (most recent call last)",
      "\u001b[1;32m<ipython-input-20-40f0afb50e0a>\u001b[0m in \u001b[0;36m<module>\u001b[1;34m\u001b[0m\n\u001b[1;32m----> 1\u001b[1;33m \u001b[0mint\u001b[0m\u001b[1;33m(\u001b[0m\u001b[1;34m'bob'\u001b[0m\u001b[1;33m)\u001b[0m\u001b[1;33m\u001b[0m\u001b[1;33m\u001b[0m\u001b[0m\n\u001b[0m",
      "\u001b[1;31mValueError\u001b[0m: invalid literal for int() with base 10: 'bob'"
     ]
    }
   ],
   "source": [
    "int('bob')"
   ]
  },
  {
   "cell_type": "markdown",
   "id": "3fc1911c",
   "metadata": {},
   "source": [
    "### Exercise 2-1 Data Types\n",
    "\n",
    "#### Instructions\n",
    "\n",
    "Write a program that adds the digits in a 2 digit number. e.g. if the input was 35, then the output should be 3 + 5 = 8\n",
    "\n",
    "**Warning.** Do not change the code on lines 1-3. Your program should work for different inputs. e.g. any two-digit number."
   ]
  },
  {
   "cell_type": "code",
   "execution_count": 21,
   "id": "f4658bfc",
   "metadata": {},
   "outputs": [
    {
     "name": "stdin",
     "output_type": "stream",
     "text": [
      "Type a two digit number:  87\n"
     ]
    },
    {
     "name": "stdout",
     "output_type": "stream",
     "text": [
      "15\n"
     ]
    }
   ],
   "source": [
    "# 🚨 Don't change the code below 👇\n",
    "two_digit_number = input(\"Type a two digit number: \")\n",
    "# 🚨 Don't change the code above 👆\n",
    "\n",
    "####################################\n",
    "#Write your code below this line 👇\n",
    "\n",
    "print(int(two_digit_number[0])+int(two_digit_number[1]))\n",
    "\n"
   ]
  },
  {
   "cell_type": "markdown",
   "id": "b2656e60",
   "metadata": {},
   "source": [
    "#### mathematical operators\n",
    "+, -, *, /, ** (power) all with ordinairy operator priority addition +- < multiplication */ < exponentiation ** < parentheses (...)"
   ]
  },
  {
   "cell_type": "markdown",
   "id": "8882b093",
   "metadata": {},
   "source": [
    "### Exercise 2-2 BMI Calculator\n",
    "\n",
    "#### Instructions\n",
    "\n",
    "Write a program that calculates the Body Mass Index (BMI) from a user's weight and height.\n",
    "\n",
    "The BMI is a measure of some's weight taking into account their height. e.g. If a tall person and a short person both weigh the same amount, the short person is usually more overweight.\n",
    "\n",
    "The BMI is calculated by dividing a person's weight (in kg) by the square of their height (in m):\n",
    "\n",
    "**Warning** you should convert the result to a whole number. \n",
    "\n",
    "#### Example Input\n",
    "\n",
    "```\n",
    "weight = 80\n",
    "```\n",
    "\n",
    "```\n",
    "height = 1.75\n",
    "```\n",
    "\n",
    "#### Example Output\n",
    "\n",
    "80 ÷ (1.75 x 1.75) =  26.122448979591837"
   ]
  },
  {
   "cell_type": "code",
   "execution_count": 25,
   "id": "f148fc08",
   "metadata": {},
   "outputs": [
    {
     "name": "stdin",
     "output_type": "stream",
     "text": [
      "enter your height in m:  1.85\n",
      "enter your weight in kg:  91\n"
     ]
    },
    {
     "name": "stdout",
     "output_type": "stream",
     "text": [
      "your BMI is: 27\n"
     ]
    }
   ],
   "source": [
    "# 🚨 Don't change the code below 👇\n",
    "height = input(\"enter your height in m: \")\n",
    "weight = input(\"enter your weight in kg: \")\n",
    "# 🚨 Don't change the code above 👆\n",
    "\n",
    "#Write your code below this line 👇\n",
    "\n",
    "BMI = round(float(weight)/float(height)**2)\n",
    "\n",
    "print(f\"your BMI is: {BMI}\")"
   ]
  },
  {
   "cell_type": "code",
   "execution_count": 28,
   "id": "322374d1",
   "metadata": {},
   "outputs": [
    {
     "name": "stdout",
     "output_type": "stream",
     "text": [
      "1.6666666666666667\n",
      "<class 'float'>\n",
      "1\n",
      "<class 'int'>\n"
     ]
    }
   ],
   "source": [
    "# floor division\n",
    "print(5/3)\n",
    "print(type(5/3))\n",
    "print(5//3)\n",
    "print(type(5//3))"
   ]
  },
  {
   "cell_type": "markdown",
   "id": "63c868e4",
   "metadata": {},
   "source": [
    "f-strings\n",
    "f\"...{}...\""
   ]
  },
  {
   "cell_type": "markdown",
   "id": "0f4d5050",
   "metadata": {},
   "source": [
    "### Exercise 2-3 Your Life in Weeks\n",
    "\n",
    "#### Instructions\n",
    "\n",
    "I was reading this article by Tim Urban - Your Life in Weeks and realised just how little time we actually have.\n",
    "\n",
    "[https://waitbutwhy.com/2014/05/life-weeks.html](https://waitbutwhy.com/2014/05/life-weeks.html)\n",
    "\n",
    "Create a program using maths and f-Strings that tells us how many days, weeks, months we have left if we live until 90 years old. \n",
    "\n",
    "It will take your current age as the input and output a message with our time left in this format:\n",
    "\n",
    "> You have x days, y weeks, and z months left. \n",
    "\n",
    "Where x, y and z are replaced with the actual calculated numbers. \n",
    "\n",
    " \n",
    "\n",
    "**Warning** your output should match the Example Output format exactly, even the positions of the commas and full stops. \n",
    "\n",
    "#### Example Input\n",
    "\n",
    "```\n",
    "56\n",
    "```\n",
    "\n",
    "#### Example Output\n",
    "\n",
    "```\n",
    "You have 12410 days, 1768 weeks, and 408 months left.\n",
    "```"
   ]
  },
  {
   "cell_type": "code",
   "execution_count": 31,
   "id": "20246dcb",
   "metadata": {},
   "outputs": [
    {
     "name": "stdin",
     "output_type": "stream",
     "text": [
      "What is your current age? 29\n"
     ]
    },
    {
     "name": "stdout",
     "output_type": "stream",
     "text": [
      "You have 61 years, 732 months, 3172 weeks or 22204 days left before you die!\n"
     ]
    }
   ],
   "source": [
    "# 🚨 Don't change the code below 👇\n",
    "age = input(\"What is your current age?\")\n",
    "# 🚨 Don't change the code above 👆\n",
    "\n",
    "#Write your code below this line 👇\n",
    "\n",
    "\n",
    "years_left = 90 - int(age)\n",
    "months_left = years_left * 12\n",
    "weeks_left = years_left * 52\n",
    "days_left = weeks_left *7\n",
    "\n",
    "print(f\"You have {years_left} years, {months_left} months, {weeks_left} weeks or {days_left} days left before you die!\")"
   ]
  },
  {
   "cell_type": "markdown",
   "id": "54adb1c6",
   "metadata": {},
   "source": [
    "### Exercise 2-Final Tip Calculator"
   ]
  },
  {
   "cell_type": "code",
   "execution_count": 44,
   "id": "7e0b52cd",
   "metadata": {},
   "outputs": [
    {
     "name": "stdin",
     "output_type": "stream",
     "text": [
      "How much is the bill? 100\n",
      "Hom many people are sharing the bill? 1\n",
      "How much tip would you like to give in percent? 10\n"
     ]
    },
    {
     "name": "stdout",
     "output_type": "stream",
     "text": [
      "Everyone has to pay €110.00 for a bill including tips of 110.00000000000001.\n"
     ]
    }
   ],
   "source": [
    "#Each person should pay (150.00 / 5) * 1.12 = 33.6\n",
    "#Format the result to 2 decimal places = 33.60\n",
    "#Tip: There are 2 ways to round a number. You might have to do some Googling to solve this.💪\n",
    "#HINT 1: https://www.google.com/search?q=how+to+round+number+to+2+decimal+places+python&oq=how+to+round+number+to+2+decimal\n",
    "#HINT 2: https://www.kite.com/python/answers/how-to-limit-a-float-to-two-decimal-places-in-python\n",
    "\n",
    "bill = float(input(\"How much is the bill?\"))\n",
    "people = int(input(\"Hom many people are sharing the bill?\"))\n",
    "tip = float(input(\"How much tip would you like to give in percent?\"))\n",
    "\n",
    "fair_share = round(bill * (1+tip/100) / people,2)\n",
    "format_fair_share = \"{:.2f}\".format(fair_share)\n",
    "\n",
    "print(f\"Everyone has to pay €{format_fair_share} for a bill including tips of {bill * (1+tip/100)}.\")"
   ]
  },
  {
   "cell_type": "code",
   "execution_count": null,
   "id": "02f31086",
   "metadata": {},
   "outputs": [],
   "source": []
  }
 ],
 "metadata": {
  "kernelspec": {
   "display_name": "Python 3",
   "language": "python",
   "name": "python3"
  },
  "language_info": {
   "codemirror_mode": {
    "name": "ipython",
    "version": 3
   },
   "file_extension": ".py",
   "mimetype": "text/x-python",
   "name": "python",
   "nbconvert_exporter": "python",
   "pygments_lexer": "ipython3",
   "version": "3.7.10"
  }
 },
 "nbformat": 4,
 "nbformat_minor": 5
}
