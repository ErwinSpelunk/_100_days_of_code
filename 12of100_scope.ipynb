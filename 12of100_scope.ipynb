{
 "cells": [
  {
   "cell_type": "markdown",
   "metadata": {},
   "source": [
    "# Day 12 - Namespace: Local <> Global variables\n",
    "## of 100 days of code\n",
    "\n",
    "DATE: 2021-10-28"
   ]
  },
  {
   "cell_type": "markdown",
   "metadata": {},
   "source": [
    "Don't forget: draw.io for creating flowcharts."
   ]
  },
  {
   "cell_type": "markdown",
   "id": "f976657b",
   "metadata": {},
   "source": [
    "### Scope:\n",
    "Local and Global scope.\n",
    "\n",
    "Local: inside a function\n",
    "\n",
    "\n",
    "Global: outside a function\n",
    "\n",
    "\n",
    "Nested: global functions are valid in subfunctions, but not other way round\n",
    "\n",
    "Just indentation is not creating scope borders. So simple _if_, _else_, _for_, _while_, ... does not create scope"
   ]
  },
  {
   "cell_type": "code",
   "execution_count": 1,
   "id": "82b364b3",
   "metadata": {},
   "outputs": [
    {
     "name": "stdout",
     "output_type": "stream",
     "text": [
      "2\n",
      "1\n"
     ]
    },
    {
     "ename": "NameError",
     "evalue": "name 'three' is not defined",
     "output_type": "error",
     "traceback": [
      "\u001b[1;31m---------------------------------------------------------------------------\u001b[0m",
      "\u001b[1;31mNameError\u001b[0m                                 Traceback (most recent call last)",
      "\u001b[1;32m~\\AppData\\Local\\Temp/ipykernel_8028/3580588532.py\u001b[0m in \u001b[0;36m<module>\u001b[1;34m\u001b[0m\n\u001b[0;32m      8\u001b[0m     \u001b[1;32mreturn\u001b[0m\u001b[1;33m\u001b[0m\u001b[1;33m\u001b[0m\u001b[0m\n\u001b[0;32m      9\u001b[0m \u001b[0mtest\u001b[0m\u001b[1;33m(\u001b[0m\u001b[1;33m)\u001b[0m\u001b[1;33m\u001b[0m\u001b[1;33m\u001b[0m\u001b[0m\n\u001b[1;32m---> 10\u001b[1;33m \u001b[0mprint\u001b[0m\u001b[1;33m(\u001b[0m\u001b[0mthree\u001b[0m\u001b[1;33m)\u001b[0m\u001b[1;33m\u001b[0m\u001b[1;33m\u001b[0m\u001b[0m\n\u001b[0m",
      "\u001b[1;31mNameError\u001b[0m: name 'three' is not defined"
     ]
    }
   ],
   "source": [
    "def test():\n",
    "    three = 2\n",
    "    print(three)\n",
    "    def subtest():\n",
    "        three = 1\n",
    "        print(three)\n",
    "    subtest()\n",
    "    return\n",
    "test()\n",
    "print(three)"
   ]
  },
  {
   "cell_type": "code",
   "execution_count": 7,
   "id": "c2f2dcb6",
   "metadata": {},
   "outputs": [
    {
     "name": "stdout",
     "output_type": "stream",
     "text": [
      "2\n",
      "1\n",
      "3\n"
     ]
    }
   ],
   "source": [
    "three = 3\n",
    "def test():\n",
    "    three = 2\n",
    "    print(three)\n",
    "    def subtest():\n",
    "        three = 1\n",
    "        print(three)\n",
    "    subtest()\n",
    "    return\n",
    "test()\n",
    "print(three)"
   ]
  },
  {
   "cell_type": "code",
   "execution_count": 2,
   "id": "857f9a86",
   "metadata": {},
   "outputs": [
    {
     "name": "stdout",
     "output_type": "stream",
     "text": [
      "3\n",
      "3\n",
      "3\n"
     ]
    }
   ],
   "source": [
    "three = 3\n",
    "def test():\n",
    "    two = 2\n",
    "    print(three)\n",
    "    def subtest():\n",
    "        one = 1\n",
    "        print(three)\n",
    "    subtest()\n",
    "    return\n",
    "test()\n",
    "print(three)"
   ]
  },
  {
   "cell_type": "markdown",
   "id": "749f9a3d",
   "metadata": {},
   "source": [
    "### global variables\n",
    "\n",
    "#### DO NOT MODIFY GLOBAL VARIABLES INSIDE A FUNCTION\n",
    "you can, with the _global_ statement, but it is highly disencouraged"
   ]
  },
  {
   "cell_type": "code",
   "execution_count": 6,
   "id": "5911494f",
   "metadata": {},
   "outputs": [
    {
     "name": "stdout",
     "output_type": "stream",
     "text": [
      "4\n"
     ]
    },
    {
     "ename": "UnboundLocalError",
     "evalue": "local variable 'four' referenced before assignment",
     "output_type": "error",
     "traceback": [
      "\u001b[1;31m---------------------------------------------------------------------------\u001b[0m",
      "\u001b[1;31mUnboundLocalError\u001b[0m                         Traceback (most recent call last)",
      "\u001b[1;32m~\\AppData\\Local\\Temp/ipykernel_8028/326622260.py\u001b[0m in \u001b[0;36m<module>\u001b[1;34m\u001b[0m\n\u001b[0;32m      4\u001b[0m     \u001b[1;32mreturn\u001b[0m\u001b[1;33m\u001b[0m\u001b[1;33m\u001b[0m\u001b[0m\n\u001b[0;32m      5\u001b[0m \u001b[0mprint\u001b[0m\u001b[1;33m(\u001b[0m\u001b[0mfour\u001b[0m\u001b[1;33m)\u001b[0m\u001b[1;33m\u001b[0m\u001b[1;33m\u001b[0m\u001b[0m\n\u001b[1;32m----> 6\u001b[1;33m \u001b[0mtest4\u001b[0m\u001b[1;33m(\u001b[0m\u001b[1;33m)\u001b[0m\u001b[1;33m\u001b[0m\u001b[1;33m\u001b[0m\u001b[0m\n\u001b[0m\u001b[0;32m      7\u001b[0m \u001b[0mprint\u001b[0m\u001b[1;33m(\u001b[0m\u001b[0mfour\u001b[0m\u001b[1;33m)\u001b[0m\u001b[1;33m\u001b[0m\u001b[1;33m\u001b[0m\u001b[0m\n",
      "\u001b[1;32m~\\AppData\\Local\\Temp/ipykernel_8028/326622260.py\u001b[0m in \u001b[0;36mtest4\u001b[1;34m()\u001b[0m\n\u001b[0;32m      1\u001b[0m \u001b[0mfour\u001b[0m \u001b[1;33m=\u001b[0m \u001b[1;36m4\u001b[0m\u001b[1;33m\u001b[0m\u001b[1;33m\u001b[0m\u001b[0m\n\u001b[0;32m      2\u001b[0m \u001b[1;32mdef\u001b[0m \u001b[0mtest4\u001b[0m\u001b[1;33m(\u001b[0m\u001b[1;33m)\u001b[0m\u001b[1;33m:\u001b[0m\u001b[1;33m\u001b[0m\u001b[1;33m\u001b[0m\u001b[0m\n\u001b[1;32m----> 3\u001b[1;33m     \u001b[0mfour\u001b[0m \u001b[1;33m+=\u001b[0m\u001b[1;36m1\u001b[0m\u001b[1;33m\u001b[0m\u001b[1;33m\u001b[0m\u001b[0m\n\u001b[0m\u001b[0;32m      4\u001b[0m     \u001b[1;32mreturn\u001b[0m\u001b[1;33m\u001b[0m\u001b[1;33m\u001b[0m\u001b[0m\n\u001b[0;32m      5\u001b[0m \u001b[0mprint\u001b[0m\u001b[1;33m(\u001b[0m\u001b[0mfour\u001b[0m\u001b[1;33m)\u001b[0m\u001b[1;33m\u001b[0m\u001b[1;33m\u001b[0m\u001b[0m\n",
      "\u001b[1;31mUnboundLocalError\u001b[0m: local variable 'four' referenced before assignment"
     ]
    }
   ],
   "source": [
    "four = 4\n",
    "def test4():\n",
    "    four +=1\n",
    "    return\n",
    "print(four)\n",
    "test4()\n",
    "print(four)"
   ]
  },
  {
   "cell_type": "markdown",
   "metadata": {},
   "source": []
  },
  {
   "cell_type": "code",
   "execution_count": 8,
   "id": "226bde3a",
   "metadata": {},
   "outputs": [
    {
     "name": "stdout",
     "output_type": "stream",
     "text": [
      "4\n",
      "5\n"
     ]
    }
   ],
   "source": [
    "four = 4\n",
    "def test4():\n",
    "    global four\n",
    "    four += 1\n",
    "    return\n",
    "print(four)\n",
    "test4()\n",
    "print(four)"
   ]
  },
  {
   "cell_type": "markdown",
   "id": "c76742cd",
   "metadata": {},
   "source": [
    "### GLOBAL CONSTANTS\n",
    "\n",
    "e.g. natural or mathematical constants\n",
    "\n",
    "Naming convention: variable names ar all upper case"
   ]
  },
  {
   "cell_type": "code",
   "execution_count": null,
   "id": "37005de5",
   "metadata": {},
   "outputs": [],
   "source": [
    "PI = 3.14159\n",
    "NAME = \"Larsi\""
   ]
  },
  {
   "cell_type": "markdown",
   "id": "b7890250",
   "metadata": {},
   "source": [
    "## Exercise 12-1 "
   ]
  },
  {
   "cell_type": "code",
   "execution_count": 9,
   "id": "0106abae",
   "metadata": {},
   "outputs": [
    {
     "name": "stdout",
     "output_type": "stream",
     "text": [
      "\n",
      ".__   __.  __    __  .___  ___. .______    _______ .______      \n",
      "|  \\ |  | |  |  |  | |   \\/   | |   _  \\  |   ____||   _  \\     \n",
      "|   \\|  | |  |  |  | |  \\  /  | |  |_)  | |  |__   |  |_)  |    \n",
      "|  . `  | |  |  |  | |  |\\/|  | |   _  <  |   __|  |      /     \n",
      "|  |\\   | |  `--'  | |  |  |  | |  |_)  | |  |____ |  |\\  \\----.\n",
      "|__| \\__|  \\______/  |__|  |__| |______/  |_______|| _| `._____|\n",
      "                                                                \n",
      "____    __    ____  __    __       ___   .___________.______    \n",
      "\\   \\  /  \\  /   / |  |  |  |     /   \\  |           |      \\   \n",
      " \\   \\/    \\/   /  |  |__|  |    /  ^  \\ `---|  |----`----)  |  \n",
      "  \\            /   |   __   |   /  /_\\  \\    |  |        /  /   \n",
      "   \\    /\\    /    |  |  |  |  /  _____  \\   |  |       |__|    \n",
      "    \\__/  \\__/     |__|  |__| /__/     \\__\\  |__|        __     \n",
      "                                                        (__)    \n",
      "\n",
      "\n",
      "I am thinking of a number between 1 and 100.\n",
      "You have 5 tries.\n",
      "guess no. 1\n",
      "Your guess is too low!\n",
      "Guess again!\n",
      "guess no. 2\n",
      "Your guess is too high!\n",
      "Guess again!\n",
      "guess no. 3\n",
      "Your guess is too high!\n",
      "Guess again!\n",
      "guess no. 4\n",
      "Your guess is too low!\n",
      "Guess again!\n",
      "guess no. 5\n",
      "Your guess is too low!\n",
      "You ran out of tries!\n",
      " The number i thought of was {guess}.\n",
      " Better luck next time!\n"
     ]
    }
   ],
   "source": [
    "#Number Guessing Game Objectives:\n",
    "\n",
    "# Include an ASCII art logo.\n",
    "# Allow the player to submit a guess for a number between 1 and 100.\n",
    "# Check user's guess against actual answer. Print \"Too high.\" or \"Too low.\" depending on the user's answer. \n",
    "# If they got the answer correct, show the actual answer to the player.\n",
    "# Track the number of turns remaining.\n",
    "# If they run out of turns, provide feedback to the player. \n",
    "# Include two different difficulty levels (e.g., 10 guesses in easy mode, only 5 guesses in hard mode).\n",
    "\n",
    "#%%\n",
    "from modules import number_logo\n",
    "import random as rnd\n",
    "import os\n",
    "clear = lambda: os.system('cls')\n",
    "clear()\n",
    "\n",
    "def num_game():\n",
    "    \"\"\"\n",
    "    The number game!\n",
    "    Guess a number between 1 and 100.\n",
    "    Choose easy for 10 guesses or hard for only 5 guesses.\n",
    "    \"\"\"\n",
    "    def compare(in_number, guess_number):\n",
    "        \"\"\"\n",
    "        compares two input numbers.\n",
    "        should be integers.\n",
    "\n",
    "        Parameters\n",
    "        ----------\n",
    "        in_number : integer\n",
    "            number from player\n",
    "        guess_number : integer\n",
    "            number guessed by game\n",
    "        \n",
    "        Returns\n",
    "        -------\n",
    "        integer\n",
    "        1\n",
    "            if guessed too high\n",
    "        -1\n",
    "            if guessed too low\n",
    "        0\n",
    "            if guessed correct\n",
    "\n",
    "        Raises\n",
    "        ------\n",
    "        Exception\n",
    "            if not comparable\n",
    "        \"\"\"\n",
    "        if in_number > guess_number:\n",
    "            return 1\n",
    "        elif in_number < guess_number:\n",
    "            return -1\n",
    "        elif in_number == guess_number:\n",
    "            return 0\n",
    "        else:\n",
    "            raise Exception(\"Can not compare numbers.\")\n",
    "        \n",
    "    WIN = [\"correct\", \"too high\", \"too low\"]\n",
    "    EASY_LEVEL_COUNTER = 10\n",
    "    HARD_LEVEL_COUNTER = 5\n",
    "\n",
    "    clear()\n",
    "    print(number_logo)\n",
    "    print(\"I am thinking of a number between 1 and 100.\")\n",
    "    \n",
    "    difficulty = input('Choose a difficulty, either \"hard\" or \"easy\". h/e : ').lower()\n",
    "    if difficulty == \"h\":\n",
    "        counter = HARD_LEVEL_COUNTER\n",
    "    elif difficulty == \"e\":\n",
    "        counter = EASY_LEVEL_COUNTER\n",
    "    print(f\"You have {counter} tries.\")\n",
    "\n",
    "    guess = rnd.randint(1,100)\n",
    "    # print(f\"Psst... i am guessing {guess}\")\n",
    "\n",
    "    for i in range(counter):\n",
    "        print(f\"guess no. {i+1}\")\n",
    "        number_guess = int(input('Make a guess: '))\n",
    "        result = WIN[compare(number_guess, guess)]\n",
    "        print(f\"Your guess is {result}!\")\n",
    "        if result == WIN[0]:\n",
    "            print(\"Congratulations, you win!\")\n",
    "            if input(\"Do you want to play again? y/n : \") == \"y\":\n",
    "                return num_game()\n",
    "            else:\n",
    "                return\n",
    "        elif i+1 == counter: \n",
    "            print(\"You ran out of tries!\\n The number i thought of was {guess}.\\n Better luck next time!\")\n",
    "            pass\n",
    "        else:\n",
    "            print(\"Guess again!\")\n",
    "            pass\n",
    "    \n",
    "    if input(\"Do you want to play again? y/n : \") == \"y\":\n",
    "                return num_game()\n",
    "    else:\n",
    "        return\n",
    "\n",
    "num_game()"
   ]
  },
  {
   "cell_type": "markdown",
   "id": "df87282b",
   "metadata": {},
   "source": []
  }
 ],
 "metadata": {
  "interpreter": {
   "hash": "155f34edff4f9ca243d67e675b42680a07c25f53d0738dbe0be9e3b73ef7e13a"
  },
  "kernelspec": {
   "display_name": "Python 3.9.7 64-bit",
   "name": "python3"
  },
  "language_info": {
   "codemirror_mode": {
    "name": "ipython",
    "version": 3
   },
   "file_extension": ".py",
   "mimetype": "text/x-python",
   "name": "python",
   "nbconvert_exporter": "python",
   "pygments_lexer": "ipython3",
   "version": "3.9.7"
  }
 },
 "nbformat": 4,
 "nbformat_minor": 5
}
