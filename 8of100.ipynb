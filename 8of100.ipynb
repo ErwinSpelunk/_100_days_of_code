{
 "cells": [
  {
   "cell_type": "markdown",
   "source": [
    "# Day 8 - Cypher\r\n",
    "## of 100 days of code\r\n",
    "\r\n",
    "DATE: 2021-07-25"
   ],
   "metadata": {}
  },
  {
   "cell_type": "markdown",
   "source": [
    "Don't forget: draw.io for creating flowcharts."
   ],
   "metadata": {}
  },
  {
   "cell_type": "markdown",
   "source": [
    "functions:\r\n",
    "\r\n",
    "def my_fun():\r\n",
    "    #do function things\r\n",
    "    "
   ],
   "metadata": {}
  },
  {
   "cell_type": "markdown",
   "source": [
    "### Exercise 8-1 create a function\r\n"
   ],
   "metadata": {}
  },
  {
   "cell_type": "code",
   "execution_count": null,
   "source": [
    "# Review: \r\n",
    "# Create a function called greet(). \r\n",
    "# Write 3 print statements inside the function.\r\n",
    "# Call the greet() function and run your code.\r\n",
    "\r\n",
    "\r\n"
   ],
   "outputs": [],
   "metadata": {}
  }
 ],
 "metadata": {
  "interpreter": {
   "hash": "155f34edff4f9ca243d67e675b42680a07c25f53d0738dbe0be9e3b73ef7e13a"
  },
  "kernelspec": {
   "display_name": "Python 3.9.5 64-bit",
   "name": "python3"
  },
  "language_info": {
   "codemirror_mode": {
    "name": "ipython",
    "version": 3
   },
   "file_extension": ".py",
   "mimetype": "text/x-python",
   "name": "python",
   "nbconvert_exporter": "python",
   "pygments_lexer": "ipython3",
   "version": "3.9.5"
  }
 },
 "nbformat": 4,
 "nbformat_minor": 5
}