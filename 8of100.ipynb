{
 "cells": [
  {
   "cell_type": "markdown",
   "source": [
    "# Day 8 - Cypher\r\n",
    "## of 100 days of code\r\n",
    "\r\n",
    "DATE: 2021-07-25"
   ],
   "metadata": {}
  },
  {
   "cell_type": "markdown",
   "source": [
    "Don't forget: draw.io for creating flowcharts."
   ],
   "metadata": {}
  },
  {
   "cell_type": "markdown",
   "source": [
    "functions:\r\n",
    "\r\n",
    "def my_fun(parameter):\r\n",
    "    #do function to parameter\r\n",
    "\r\n",
    "my_fun(argument)\r\n",
    ">#thing done to argument as parameter to my_fun\r\n",
    "    "
   ],
   "metadata": {}
  },
  {
   "cell_type": "code",
   "execution_count": 4,
   "source": [
    "# Review: \r\n",
    "# Create a function called greet(). \r\n",
    "# Write 3 print statements inside the function.\r\n",
    "# Call the greet() function and run your code.\r\n",
    "\r\n",
    "def greeting(say, name):\r\n",
    "    if say == 1:\r\n",
    "        print(f\"Hello {name}!\")\r\n",
    "    elif say == 2:\r\n",
    "        print(f\"Oh, hi {name}!\")\r\n",
    "    elif say == 3:\r\n",
    "        print(f\"Olá {name}!\")\r\n",
    "\r\n",
    "greeting(2, 'Tom')"
   ],
   "outputs": [
    {
     "output_type": "stream",
     "name": "stdout",
     "text": [
      "Oh, hi Tom!\n"
     ]
    }
   ],
   "metadata": {}
  },
  {
   "cell_type": "markdown",
   "source": [
    "## Positional vs Keyword Arguments\r\n",
    "\r\n",
    "Give the parameter name in the function call to make a positional argument into a keyword argument."
   ],
   "metadata": {}
  },
  {
   "cell_type": "code",
   "execution_count": 8,
   "source": [
    "def greet_nameloc(name, location):\r\n",
    "    print(f\"Hi {name}, do you know where {location} is?\")\r\n",
    "\r\n",
    "greet_nameloc(location = 'Uranus', name = 'Tom')"
   ],
   "outputs": [
    {
     "output_type": "stream",
     "name": "stdout",
     "text": [
      "Hi Tom, do you know where Uranus is?\n"
     ]
    }
   ],
   "metadata": {}
  },
  {
   "cell_type": "markdown",
   "source": [
    "### Exercise 8-1 Area Calc\r\n",
    "Instructions\r\n",
    "\r\n",
    "You are painting a wall. The instructions on the paint can says that 1 can of paint can cover 5 square meters of wall. Given a random height and width of wall, calculate how many cans of paint you'll need to buy.\r\n",
    "\r\n",
    "number of cans = (wall height ✖️ wall width) ÷ coverage per can.\r\n",
    "\r\n",
    "e.g. Height = 2, Width = 4, Coverage = 5\r\n",
    "\r\n",
    "number of cans = (2 ✖️ 4) ÷ 5\r\n",
    "\r\n",
    "                     = 1.6\r\n",
    "\r\n",
    "But because you can't buy 0.6 of a can of paint, the result should be rounded up to 2 cans.\r\n",
    "\r\n",
    "IMPORTANT: Notice the name of the function and parameters must match those on line 13 for the code to work.\r\n",
    "Example Input\r\n",
    "\r\n",
    "test_h = 3\r\n",
    "\r\n",
    "test_w = 9\r\n",
    "\r\n",
    "Example Output\r\n",
    "\r\n",
    "You'll need 6 cans of paint.\r\n",
    "\r\n",
    "Hint\r\n",
    "\r\n",
    "1. To round up a number:\r\n",
    "\r\n",
    "https://stackoverflow.com/questions/2356501/how-do-you-round-up-a-number-in-python\r\n",
    "\r\n",
    "    Make sure you name your function/parameters the same as when it's called on the last line of code. \r\n",
    "\r\n",
    "Test Your Code\r\n",
    "\r\n",
    "Before checking the solution, try copy-pasting your code into this repl:\r\n",
    "\r\n",
    "https://repl.it/@appbrewery/day-8-1-test-your-code\r\n",
    "\r\n",
    "This repl includes my testing code that will check if your code meets this assignment's objectives.\r\n",
    "Solution\r\n",
    "\r\n",
    "https://repl.it/@appbrewery/day-8-1-solution"
   ],
   "metadata": {}
  },
  {
   "cell_type": "markdown",
   "source": [],
   "metadata": {}
  },
  {
   "cell_type": "code",
   "execution_count": 27,
   "source": [
    "# make every input integer, otherwise it stays a string\r\n",
    "test_h, test_w, test_c = [int(x) for x in input(\"please give height, width, coverage\").split(',', 3)]\r\n",
    "\r\n",
    "print(test_h, test_w, test_c)\r\n",
    "\r\n",
    "def paint_calc(height, width, coverage):\r\n",
    "    import numpy as np\r\n",
    "    no_of_cans = int(np.ceil(height*width/coverage))\r\n",
    "    return no_of_cans\r\n",
    "#print(paint_calc(5,2,3))\r\n",
    "def paint_calc2(height, width, coverage):\r\n",
    "    no_of_cans = round(height*width/coverage)\r\n",
    "    return no_of_cans\r\n",
    "\r\n",
    "#print(paint_calc2(5,2,3))\r\n",
    "\r\n",
    "hehecans = paint_calc(height = test_h, width = test_w, coverage = test_c)\r\n",
    "\r\n",
    "print(f\"You need {hehecans} cans of paint.\")"
   ],
   "outputs": [
    {
     "output_type": "stream",
     "name": "stdout",
     "text": [
      "5 3 2\n",
      "You need 8 of paint.\n"
     ]
    }
   ],
   "metadata": {}
  },
  {
   "cell_type": "markdown",
   "source": [
    "### Exercise 8-2 Prime Numbers\r\n",
    "Instructions\r\n",
    "\r\n",
    "Prime numbers are numbers that can only be cleanly divided by itself and 1.\r\n",
    "\r\n",
    "https://en.wikipedia.org/wiki/Prime_number\r\n",
    "\r\n",
    "You need to write a function that checks whether if the number passed into it is a prime number or not.\r\n",
    "\r\n",
    "e.g. 2 is a prime number because it's only divisible by 1 and 2.\r\n",
    "\r\n",
    "But 4 is not a prime number because you can divide it by 1, 2 or 4.\r\n",
    "\r\n",
    "https://cdn.fs.teachablecdn.com/s0gceS97QD6MP5RUT49H\r\n",
    "\r\n",
    "Here are the numbers up to 100, prime numbers are highlighted in yellow:\r\n",
    "\r\n",
    "https://cdn.fs.teachablecdn.com/NZqVclSt2qAe8KhTsUtw\r\n",
    "Example Input 1\r\n",
    "\r\n",
    "73\r\n",
    "\r\n",
    "Example Output 1\r\n",
    "\r\n",
    "It's a prime number.\r\n",
    "\r\n",
    "Example Input 2\r\n",
    "\r\n",
    "75\r\n",
    "\r\n",
    "Example Output 2\r\n",
    "\r\n",
    "It's not a prime number.\r\n",
    "\r\n",
    "Hint\r\n",
    "\r\n",
    "    Remember the modulus: \r\n",
    "\r\n",
    "https://stackoverflow.com/questions/4432208/what-is-the-result-of-in-python\r\n",
    "\r\n",
    "    Make sure you name your function/parameters the same as when it's called on the last line of code.\r\n",
    "\r\n",
    "    Use the same wording as the Example Outputs to make sure the tests pass. \r\n",
    "\r\n",
    "Test Your Code\r\n",
    "\r\n",
    "Before checking the solution, try copy-pasting your code into this repl:\r\n",
    "\r\n",
    "https://repl.it/@appbrewery/day-8-2-test-your-code\r\n",
    "\r\n",
    "This repl includes my testing code that will check if your code meets this assignment's objectives.\r\n",
    "Solution\r\n",
    "\r\n",
    "https://repl.it/@appbrewery/day-8-2-solution"
   ],
   "metadata": {}
  },
  {
   "cell_type": "code",
   "execution_count": 50,
   "source": [
    "def prime_checker(number):\r\n",
    "    import numpy as np\r\n",
    "    max_check = round(np.sqrt(number))\r\n",
    "    primes_list = []\r\n",
    "    check = 2\r\n",
    "    if number%check == 0:\r\n",
    "            primes_list.append(check)\r\n",
    "    else:\r\n",
    "        pass\r\n",
    "\r\n",
    "    check = 3\r\n",
    "    if number%check == 0:\r\n",
    "            primes_list.append(check)\r\n",
    "    else:\r\n",
    "        pass\r\n",
    "    k = 1\r\n",
    "    while check <= max_check:\r\n",
    "        check = 6*k-1\r\n",
    "        if number%check == 0:\r\n",
    "            primes_list.append(check)\r\n",
    "        else:\r\n",
    "            pass\r\n",
    "        check = 6*k+1\r\n",
    "        if number%check == 0:\r\n",
    "            primes_list.append(check)\r\n",
    "        else:\r\n",
    "            pass\r\n",
    "        k+=1\r\n",
    "    if primes_list == []:\r\n",
    "        primes_output = f\"The number {number} is prime!\"\r\n",
    "    else:\r\n",
    "        primes_output = f\"The number {number} has {primes_list} as prime factors!\"\r\n",
    "    return primes_output\r\n",
    "\r\n",
    "n = int(input(\"Check this out: \"))\r\n",
    "prime_checker(n)\r\n",
    "\r\n"
   ],
   "outputs": [
    {
     "output_type": "execute_result",
     "data": {
      "text/plain": [
       "'The number 67 is prime!'"
      ]
     },
     "metadata": {},
     "execution_count": 50
    }
   ],
   "metadata": {}
  },
  {
   "cell_type": "code",
   "execution_count": null,
   "source": [],
   "outputs": [],
   "metadata": {}
  }
 ],
 "metadata": {
  "interpreter": {
   "hash": "155f34edff4f9ca243d67e675b42680a07c25f53d0738dbe0be9e3b73ef7e13a"
  },
  "kernelspec": {
   "name": "python3",
   "display_name": "Python 3.9.5 64-bit"
  },
  "language_info": {
   "codemirror_mode": {
    "name": "ipython",
    "version": 3
   },
   "file_extension": ".py",
   "mimetype": "text/x-python",
   "name": "python",
   "nbconvert_exporter": "python",
   "pygments_lexer": "ipython3",
   "version": "3.9.5"
  }
 },
 "nbformat": 4,
 "nbformat_minor": 5
}