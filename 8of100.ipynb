{
 "cells": [
  {
   "cell_type": "markdown",
   "metadata": {},
   "source": [
    "# Day 8 - Cypher\n",
    "## of 100 days of code\n",
    "\n",
    "DATE: 2021-07-25"
   ]
  },
  {
   "cell_type": "markdown",
   "metadata": {},
   "source": [
    "Don't forget: draw.io for creating flowcharts."
   ]
  },
  {
   "cell_type": "markdown",
   "metadata": {},
   "source": [
    "functions:\n",
    "\n",
    "def my_fun(parameter):\n",
    "    #do function to parameter\n",
    "\n",
    "my_fun(argument)\n",
    ">#thing done to argument as parameter to my_fun\n",
    "    "
   ]
  },
  {
   "cell_type": "code",
   "execution_count": 1,
   "metadata": {},
   "outputs": [
    {
     "name": "stdout",
     "output_type": "stream",
     "text": [
      "Oh, hi Tom!\n"
     ]
    }
   ],
   "source": [
    "# Review: \n",
    "# Create a function called greet(). \n",
    "# Write 3 print statements inside the function.\n",
    "# Call the greet() function and run your code.\n",
    "\n",
    "def greeting(say, name):\n",
    "    if say == 1:\n",
    "        print(f\"Hello {name}!\")\n",
    "    elif say == 2:\n",
    "        print(f\"Oh, hi {name}!\")\n",
    "    elif say == 3:\n",
    "        print(f\"Olá {name}!\")\n",
    "\n",
    "greeting(2, 'Tom')"
   ]
  },
  {
   "cell_type": "markdown",
   "metadata": {},
   "source": [
    "## Positional vs Keyword Arguments\n",
    "\n",
    "Give the parameter name in the function call to make a positional argument into a keyword argument."
   ]
  },
  {
   "cell_type": "code",
   "execution_count": 2,
   "metadata": {},
   "outputs": [
    {
     "name": "stdout",
     "output_type": "stream",
     "text": [
      "Hi Tom, do you know where Uranus is?\n"
     ]
    }
   ],
   "source": [
    "def greet_nameloc(name, location):\n",
    "    print(f\"Hi {name}, do you know where {location} is?\")\n",
    "\n",
    "greet_nameloc(location = 'Uranus', name = 'Tom')"
   ]
  },
  {
   "cell_type": "markdown",
   "metadata": {},
   "source": [
    "### Exercise 8-1 Area Calc\n",
    "Instructions\n",
    "\n",
    "You are painting a wall. The instructions on the paint can says that 1 can of paint can cover 5 square meters of wall. Given a random height and width of wall, calculate how many cans of paint you'll need to buy.\n",
    "\n",
    "number of cans = (wall height ✖️ wall width) ÷ coverage per can.\n",
    "\n",
    "e.g. Height = 2, Width = 4, Coverage = 5\n",
    "\n",
    "number of cans = (2 ✖️ 4) ÷ 5\n",
    "\n",
    "                     = 1.6\n",
    "\n",
    "But because you can't buy 0.6 of a can of paint, the result should be rounded up to 2 cans.\n",
    "\n",
    "IMPORTANT: Notice the name of the function and parameters must match those on line 13 for the code to work.\n",
    "Example Input\n",
    "\n",
    "test_h = 3\n",
    "\n",
    "test_w = 9\n",
    "\n",
    "Example Output\n",
    "\n",
    "You'll need 6 cans of paint.\n",
    "\n",
    "Hint\n",
    "\n",
    "1. To round up a number:\n",
    "\n",
    "https://stackoverflow.com/questions/2356501/how-do-you-round-up-a-number-in-python\n",
    "\n",
    "    Make sure you name your function/parameters the same as when it's called on the last line of code. \n",
    "\n",
    "Test Your Code\n",
    "\n",
    "Before checking the solution, try copy-pasting your code into this repl:\n",
    "\n",
    "https://repl.it/@appbrewery/day-8-1-test-your-code\n",
    "\n",
    "This repl includes my testing code that will check if your code meets this assignment's objectives.\n",
    "Solution\n",
    "\n",
    "https://repl.it/@appbrewery/day-8-1-solution"
   ]
  },
  {
   "cell_type": "markdown",
   "metadata": {},
   "source": []
  },
  {
   "cell_type": "code",
   "execution_count": 3,
   "metadata": {},
   "outputs": [
    {
     "name": "stdout",
     "output_type": "stream",
     "text": [
      "1 1 1\n",
      "You need 1 cans of paint.\n"
     ]
    }
   ],
   "source": [
    "# make every input integer, otherwise it stays a string\n",
    "test_h, test_w, test_c = [int(x) for x in input(\"please give height, width, coverage\").split(',', 3)]\n",
    "\n",
    "print(test_h, test_w, test_c)\n",
    "\n",
    "def paint_calc(height, width, coverage):\n",
    "    import numpy as np\n",
    "    no_of_cans = int(np.ceil(height*width/coverage))\n",
    "    return no_of_cans\n",
    "#print(paint_calc(5,2,3))\n",
    "def paint_calc2(height, width, coverage):\n",
    "    no_of_cans = round(height*width/coverage)\n",
    "    return no_of_cans\n",
    "\n",
    "#print(paint_calc2(5,2,3))\n",
    "\n",
    "hehecans = paint_calc(height = test_h, width = test_w, coverage = test_c)\n",
    "\n",
    "print(f\"You need {hehecans} cans of paint.\")"
   ]
  },
  {
   "cell_type": "markdown",
   "metadata": {},
   "source": [
    "### Exercise 8-2 Prime Numbers\n",
    "Instructions\n",
    "\n",
    "Prime numbers are numbers that can only be cleanly divided by itself and 1.\n",
    "\n",
    "https://en.wikipedia.org/wiki/Prime_number\n",
    "\n",
    "You need to write a function that checks whether if the number passed into it is a prime number or not.\n",
    "\n",
    "e.g. 2 is a prime number because it's only divisible by 1 and 2.\n",
    "\n",
    "But 4 is not a prime number because you can divide it by 1, 2 or 4.\n",
    "\n",
    "https://cdn.fs.teachablecdn.com/s0gceS97QD6MP5RUT49H\n",
    "\n",
    "Here are the numbers up to 100, prime numbers are highlighted in yellow:\n",
    "\n",
    "https://cdn.fs.teachablecdn.com/NZqVclSt2qAe8KhTsUtw\n",
    "Example Input 1\n",
    "\n",
    "73\n",
    "\n",
    "Example Output 1\n",
    "\n",
    "It's a prime number.\n",
    "\n",
    "Example Input 2\n",
    "\n",
    "75\n",
    "\n",
    "Example Output 2\n",
    "\n",
    "It's not a prime number.\n",
    "\n",
    "Hint\n",
    "\n",
    "    Remember the modulus: \n",
    "\n",
    "https://stackoverflow.com/questions/4432208/what-is-the-result-of-in-python\n",
    "\n",
    "    Make sure you name your function/parameters the same as when it's called on the last line of code.\n",
    "\n",
    "    Use the same wording as the Example Outputs to make sure the tests pass. \n",
    "\n",
    "Test Your Code\n",
    "\n",
    "Before checking the solution, try copy-pasting your code into this repl:\n",
    "\n",
    "https://repl.it/@appbrewery/day-8-2-test-your-code\n",
    "\n",
    "This repl includes my testing code that will check if your code meets this assignment's objectives.\n",
    "Solution\n",
    "\n",
    "https://repl.it/@appbrewery/day-8-2-solution"
   ]
  },
  {
   "cell_type": "code",
   "execution_count": 4,
   "metadata": {},
   "outputs": [
    {
     "data": {
      "text/plain": [
       "'The number 123 has [3] as prime factors!'"
      ]
     },
     "execution_count": 4,
     "metadata": {},
     "output_type": "execute_result"
    }
   ],
   "source": [
    "def prime_checker(number):\n",
    "    import numpy as np\n",
    "    max_check = round(np.sqrt(number))\n",
    "    primes_list = []\n",
    "    check = 2\n",
    "    if number%check == 0:\n",
    "            primes_list.append(check)\n",
    "    else:\n",
    "        pass\n",
    "\n",
    "    check = 3\n",
    "    if number%check == 0:\n",
    "            primes_list.append(check)\n",
    "    else:\n",
    "        pass\n",
    "    k = 1\n",
    "    while check <= max_check:\n",
    "        check = 6*k-1\n",
    "        if number%check == 0:\n",
    "            primes_list.append(check)\n",
    "        else:\n",
    "            pass\n",
    "        check = 6*k+1\n",
    "        if number%check == 0:\n",
    "            primes_list.append(check)\n",
    "        else:\n",
    "            pass\n",
    "        k+=1\n",
    "    if primes_list == []:\n",
    "        primes_output = f\"The number {number} is prime!\"\n",
    "    else:\n",
    "        primes_output = f\"The number {number} has {primes_list} as prime factors!\"\n",
    "    return primes_output\n",
    "\n",
    "n = int(input(\"Check this out: \"))\n",
    "prime_checker(n)\n",
    "\n"
   ]
  },
  {
   "cell_type": "markdown",
   "metadata": {},
   "source": [
    "### Exercise 8-Main Ceasar Cypher\n",
    "alphabet = ['a', 'b', 'c', 'd', 'e', 'f', 'g', 'h', 'i', 'j', 'k', 'l', 'm', 'n', 'o', 'p', 'q', 'r', 's', 't', 'u', 'v', 'w', 'x', 'y', 'z']\n",
    "\n",
    "direction = input(\"Type 'encode' to encrypt, type 'decode' to decrypt:\\n\")\n",
    "text = input(\"Type your message:\\n\").lower()\n",
    "shift = int(input(\"Type the shift number:\\n\"))\n",
    "\n",
    "#TODO-1: Create a function called 'encrypt' that takes the 'text' and 'shift' as inputs.\n",
    "\n",
    "    #TODO-2: Inside the 'encrypt' function, shift each letter of the 'text' forwards in the alphabet by the shift amount and print the encrypted text.  \n",
    "    #e.g. \n",
    "    #plain_text = \"hello\"\n",
    "    #shift = 5\n",
    "    #cipher_text = \"mjqqt\"\n",
    "    #print output: \"The encoded text is mjqqt\"\n",
    "\n",
    "    ##HINT: How do you get the index of an item in a list:\n",
    "    #https://stackoverflow.com/questions/176918/finding-the-index-of-an-item-in-a-list\n",
    "\n",
    "    ##🐛Bug alert: What happens if you try to encode the word 'civilization'?🐛\n",
    "\n",
    "#TODO-3: Call the encrypt function and pass in the user inputs. You should be able to test the code and encrypt a message. "
   ]
  },
  {
   "cell_type": "code",
   "execution_count": 2,
   "metadata": {},
   "outputs": [
    {
     "name": "stdout",
     "output_type": "stream",
     "text": [
      "hello there, how are you doing?\n"
     ]
    }
   ],
   "source": [
    "alphabet = ['a', 'b', 'c', 'd', 'e', 'f', 'g', 'h', 'i', 'j', 'k', 'l', 'm', 'n', 'o', 'p', 'q', 'r', 's', 't', 'u', 'v', 'w', 'x', 'y', 'z']\n",
    "\n",
    "direction = input(\"Type 'encode' to encrypt, type 'decode' to decrypt:\\n\")\n",
    "text = input(\"Type your message:\\n\").lower()\n",
    "shift = int(input(\"Type the shift number:\\n\"))\n",
    "\n",
    "#TODO-1: Create a function called 'encrypt' that takes the 'text' and 'shift' as inputs.\n",
    "def crypt(message, shift, direction):\n",
    "    #TODO-2: Inside the 'encrypt' function, shift each letter of the 'text' forwards in the alphabet by the shift amount and print the encrypted text.  \n",
    "    #e.g. \n",
    "    #plain_text = \"hello\"\n",
    "    #shift = 5\n",
    "    #cipher_text = \"mjqqt\"\n",
    "    #print output: \"The encoded text is mjqqt\"\n",
    "\n",
    "    ##HINT: How do you get the index of an item in a list:\n",
    "    #https://stackoverflow.com/questions/176918/finding-the-index-of-an-item-in-a-list\n",
    "\n",
    "    ##🐛Bug alert: What happens if you try to encode the word 'civilization'?🐛\n",
    "    factor = 1\n",
    "    if direction == 'encode':\n",
    "        factor = 1\n",
    "    elif direction == 'decode':\n",
    "        factor = -1\n",
    "    else:\n",
    "        print(\"can not determine direction\")\n",
    "    plain_text = message\n",
    "    cipher_text = \"\"\n",
    "    shift *= factor\n",
    "    betalpha = alphabet[shift:] + alphabet[:shift]\n",
    "    for letter in plain_text:\n",
    "        if letter in alphabet:\n",
    "            x = alphabet.index(letter)\n",
    "            cipher_text += betalpha[x]\n",
    "        else:\n",
    "            cipher_text += letter\n",
    "    return cipher_text\n",
    "#TODO-3: Call the encrypt function and pass in the user inputs. You should be able to test the code and encrypt a message.\n",
    "output = crypt(text, shift, direction)\n",
    "print(output)"
   ]
  },
  {
   "cell_type": "markdown",
   "metadata": {},
   "source": [
    "#TODO-1: Import and print the logo from art.py when the program starts.\n",
    "\n",
    "#TODO-4: Can you figure out a way to ask the user if they want to restart the cipher program?\n",
    "#e.g. Type 'yes' if you want to go again. Otherwise type 'no'.\n",
    "#If they type 'yes' then ask them for the direction/text/shift again and call the caesar() function again?\n",
    "#Hint: Try creating a while loop that continues to execute the program if the user types 'yes'. \n",
    "#TODO-2: What if the user enters a shift that is greater than the number of letters in the alphabet?\n",
    "#Try running the program and entering a shift number of 45.\n",
    "#Add some code so that the program continues to work even if the user enters a shift number greater than 26. \n",
    "#Hint: Think about how you can use the modulus (%)."
   ]
  },
  {
   "cell_type": "code",
   "execution_count": 8,
   "metadata": {},
   "outputs": [
    {
     "name": "stdout",
     "output_type": "stream",
     "text": [
      "           \n",
      " ,adPPYba, ,adPPYYba,  ,adPPYba, ,adPPYba, ,adPPYYba, 8b,dPPYba,  \n",
      "a8\"     \"\" \"\"     `Y8 a8P_____88 I8[    \"\" \"\"     `Y8 88P'   \"Y8  \n",
      "8b         ,adPPPPP88 8PP\"  `\"Y8ba,  ,adPPPPP88 88          \n",
      "\"8a,   ,aa 88,    ,88 \"8b,   ,aa aa    ]8I 88,    ,88 88          \n",
      " `\"Ybbd8\"' `\"8bbdP\"Y8  `\"Ybbd8\"' `\"YbbdP\"' `\"8bbdP\"Y8 88   \n",
      "            88             88                                 \n",
      "           \"\"             88                                 \n",
      "                          88                                 \n",
      " ,adPPYba, 88 8b,dPPYba,  88,dPPYba,   ,adPPYba, 8b,dPPYba,  \n",
      "a8\"     \"\" 88 88P'    \"8a 88P'    \"8a a8P_____88 88P'   \"Y8  \n",
      "8b         88 88       d8 88       88 8PP\" 88          \n",
      "\"8a,   ,aa 88 88b,   ,a8\" 88       88 \"8b,   ,aa 88          \n",
      " `\"Ybbd8\"' 88 88`YbbdP\"'  88       88  `\"Ybbd8\"' 88          \n",
      "              88                                             \n",
      "              88           \n",
      "\n",
      "can not determine direction\n",
      "rcvo rcvvo?\n",
      "what whaat?\n"
     ]
    }
   ],
   "source": [
    "from modules8of100 import logo \n",
    "print(logo)\n",
    "alphabet = ['a', 'b', 'c', 'd', 'e', 'f', 'g', 'h', 'i', 'j', 'k', 'l', 'm', 'n', 'o', 'p', 'q', 'r', 's', 't', 'u', 'v', 'w', 'x', 'y', 'z']\n",
    "\n",
    "def crypt(message, shift, direction):\n",
    "    factor = 1\n",
    "    if direction == 'encode':\n",
    "        factor = 1\n",
    "    elif direction == 'decode':\n",
    "        factor = -1\n",
    "    else:\n",
    "        print(\"can not determine direction\")\n",
    "    plain_text = message\n",
    "    cipher_text = \"\"\n",
    "    shift %= 26\n",
    "    shift *= factor\n",
    "    betalpha = alphabet[shift:] + alphabet[:shift]\n",
    "    for letter in plain_text:\n",
    "        if letter in alphabet:\n",
    "            x = alphabet.index(letter)\n",
    "            cipher_text += betalpha[x]\n",
    "        else:\n",
    "            cipher_text += letter\n",
    "    return cipher_text\n",
    "\n",
    "run = True\n",
    "while run:\n",
    "    run = False\n",
    "    direction = input(\"Type 'encode' to encrypt, type 'decode' to decrypt:\\n\")\n",
    "    text = input(\"Type your message:\\n\").lower()\n",
    "    shift = int(input(\"Type the shift number:\\n\"))\n",
    "    output = crypt(text, shift, direction)\n",
    "    print(output)\n",
    "\n",
    "    go_on = input(\"Do you want to go again? Type 'y' or 'n'.\\n\")\n",
    "    if go_on == \"y\":\n",
    "        run = True"
   ]
  },
  {
   "cell_type": "code",
   "execution_count": 7,
   "metadata": {},
   "outputs": [
    {
     "name": "stdout",
     "output_type": "stream",
     "text": [
      "17\n"
     ]
    }
   ],
   "source": [
    "bla = 43\n",
    "bla %= 26\n",
    "print(bla)"
   ]
  },
  {
   "cell_type": "code",
   "execution_count": null,
   "metadata": {},
   "outputs": [],
   "source": []
  }
 ],
 "metadata": {
  "interpreter": {
   "hash": "155f34edff4f9ca243d67e675b42680a07c25f53d0738dbe0be9e3b73ef7e13a"
  },
  "kernelspec": {
   "display_name": "Python 3.9.7 64-bit",
   "name": "python3"
  },
  "language_info": {
   "codemirror_mode": {
    "name": "ipython",
    "version": 3
   },
   "file_extension": ".py",
   "mimetype": "text/x-python",
   "name": "python",
   "nbconvert_exporter": "python",
   "pygments_lexer": "ipython3",
   "version": "3.9.7"
  }
 },
 "nbformat": 4,
 "nbformat_minor": 5
}
