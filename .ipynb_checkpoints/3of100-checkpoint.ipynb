{
 "cells": [
  {
   "cell_type": "markdown",
   "id": "ace55363",
   "metadata": {},
   "source": [
    "# Day 3\n",
    "## of 100 days of code\n",
    "\n",
    "DATE: 2021-04-12"
   ]
  },
  {
   "cell_type": "markdown",
   "id": "75a31d2c",
   "metadata": {},
   "source": [
    "Conditionals, if elif else\n",
    "\n",
    "if condition:\n",
    "    do this\n",
    "else:\n",
    "    do that\n",
    "    \n",
    "comparators: >,<,>=,<=, ==, !=\n",
    "\n",
    "### !!!\n",
    "\n",
    "a = b ... is an *assignment*\n",
    "\n",
    "a == b ... is a *check for equality*"
   ]
  },
  {
   "cell_type": "markdown",
   "id": "cce16891",
   "metadata": {},
   "source": [
    "### Exercise 3-1 Odd or Even\n",
    "\n",
    "##### Instructions\n",
    "\n",
    "Write a program that works out whether if a given number is an odd or even number. \n",
    "\n",
    "Even numbers can be divided by 2 with no remainder. \n",
    "\n",
    "e.g. 86 is **even** because 86 ÷ 2 = 43\n",
    "\n",
    "43 does not have any decimal places. Therefore the division is clean.\n",
    "\n",
    "e.g. 59 is **odd** because 59 ÷ 2 = 29.5\n",
    "\n",
    "29.5 is not a whole number, it has decimal places. Therefore there is a remainder of 0.5, so the division is not clean.\n",
    "\n",
    "The **modulo** is written as a percentage sign (%) in Python. It gives you the remainder after a division. \n",
    "\n",
    "e.g. \n",
    "\n",
    "6 ÷ 2 = 3 with no remainder. \n",
    "\n",
    "```\n",
    "6 % 2 = 0\n",
    "```\n",
    "\n",
    "5 ÷ 2 = 2 x **2** + 1, remainder is 1.\n",
    "\n",
    "```\n",
    "5 % 2 = 1\n",
    "```\n",
    "\n",
    "14 ÷ 4 = 3 x **4** + 2, remainder is 2.\n",
    "\n",
    "```\n",
    "14 % 4 = 2\n",
    "```\n",
    "\n",
    "**Warning** your output should match the Example Output format exactly, even the positions of the commas and full stops. \n",
    "\n",
    "#### Example Input 1\n",
    "\n",
    "```\n",
    "43\n",
    "```\n",
    "\n",
    "#### Example Output 1\n",
    "\n",
    "```\n",
    "This is an odd number.\n",
    "```\n",
    "\n",
    "#### Example Input 2\n",
    "\n",
    "```\n",
    "94\n",
    "```\n",
    "\n",
    "#### Example Output 2\n",
    "\n",
    "```\n",
    "This is an even number.\n",
    "```\n",
    "\n",
    "e.g. When you hit **run**, this is what should happen:   \n",
    "\n",
    "![](https://cdn.fs.teachablecdn.com/bkF9TKJSTGksvxNzOtba)\n",
    "\n",
    "#### Hint\n",
    "\n",
    "1. All even numbers can be divided by 2 with 0 remainder.\n",
    "2. Try some using the modulo with some odd numbers e.g. \n",
    "\n",
    "```\n",
    "3 % 2\n",
    "```\n",
    "\n",
    "```\n",
    "5 % 2\n",
    "```\n",
    "\n",
    "```\n",
    "7 % 2\n",
    "```\n",
    "\n",
    "Then try using the modulo with some even numbers e.g.\n",
    "\n",
    "```\n",
    "4 % 2\n",
    "```\n",
    "\n",
    "```\n",
    "6 % 2\n",
    "```\n",
    "\n",
    "```\n",
    "8 % 2\n",
    "```\n",
    "\n",
    "See what's in common each time.\n",
    " \n",
    "#### Test Your Code\n",
    "\n",
    "Before checking the solution, try copy-pasting your code into this repl: \n",
    "\n",
    "[https://repl.it/@appbrewery/day-3-1-test-your-code](https://repl.it/@appbrewery/day-3-1-test-your-code)\n",
    "\n",
    "This repl includes my testing code that will check if your code meets this assignment's objectives. \n",
    "\n",
    "#### Solution\n",
    "\n",
    "[https://repl.it/@appbrewery/day-3-1-solution](https://repl.it/@appbrewery/day-3-1-solution)"
   ]
  },
  {
   "cell_type": "code",
   "execution_count": 7,
   "id": "79c83d13",
   "metadata": {},
   "outputs": [
    {
     "name": "stdin",
     "output_type": "stream",
     "text": [
      "Which number do you want to check?  -3\n"
     ]
    },
    {
     "name": "stdout",
     "output_type": "stream",
     "text": [
      "This number is odd.\n"
     ]
    }
   ],
   "source": [
    "# 🚨 Don't change the code below 👇\n",
    "number = int(input(\"Which number do you want to check? \"))\n",
    "# 🚨 Don't change the code above 👆\n",
    "\n",
    "#Write your code below this line 👇\n",
    "\n",
    "if number%2 == 0:\n",
    "    print(\"This number is even.\")\n",
    "elif number%2 == 1:\n",
    "    print(\"This number is odd.\")\n",
    "else:\n",
    "    print(\"Something magical happened!\")"
   ]
  },
  {
   "cell_type": "code",
   "execution_count": 3,
   "id": "1da1279d",
   "metadata": {},
   "outputs": [
    {
     "data": {
      "text/plain": [
       "1"
      ]
     },
     "execution_count": 3,
     "metadata": {},
     "output_type": "execute_result"
    }
   ],
   "source": [
    "21%2"
   ]
  },
  {
   "cell_type": "markdown",
   "id": "b4de99a9",
   "metadata": {},
   "source": [
    "### Exercise 3-2 Advanced BMI Calculator\n",
    "\n",
    "The elif statement does not have to be explicit, e.g.\n",
    "elif 25<= BMI < 30:\n",
    "    print(f\"Your BMI is {BMI} which is overweight.\")\n",
    "every if statement gets checked after one another, so we can leave out ( in theory ) the lower boundaries. BUT it is considered bad practice."
   ]
  },
  {
   "cell_type": "code",
   "execution_count": 15,
   "id": "70a234de",
   "metadata": {},
   "outputs": [
    {
     "name": "stdin",
     "output_type": "stream",
     "text": [
      "enter your height in m:  1.85\n",
      "enter your weight in kg:  125\n"
     ]
    },
    {
     "name": "stdout",
     "output_type": "stream",
     "text": [
      "Your BMI is 37 which is clinically obese.\n"
     ]
    }
   ],
   "source": [
    "# 🚨 Don't change the code below 👇\n",
    "height = float(input(\"enter your height in m: \"))\n",
    "weight = float(input(\"enter your weight in kg: \"))\n",
    "# age = input(\"enter your age in years: \")\n",
    "# 🚨 Don't change the code above 👆\n",
    "\n",
    "#Write your code below this line 👇\n",
    "\n",
    "BMI = round(weight/height**2)\n",
    "\n",
    "if BMI < 18.5:\n",
    "    print(f\"Your BMI is {BMI} which is underweight.\")\n",
    "elif 18.5<= BMI < 25:\n",
    "    print(f\"Your BMI is {BMI} which is normal weight.\")\n",
    "elif 25<= BMI < 30:\n",
    "    print(f\"Your BMI is {BMI} which is overweight.\")\n",
    "elif 30<= BMI < 35:\n",
    "    print(f\"Your BMI is {BMI} which is obese.\")\n",
    "elif 35<= BMI:\n",
    "    print(f\"Your BMI is {BMI} which is clinically obese.\")\n",
    "'''\n",
    "if BMI < 18.5:\n",
    "    print(f\"Your BMI is {BMI} which is underweight.\")\n",
    "elif BMI < 25:\n",
    "    print(f\"Your BMI is {BMI} which is normal weight.\")\n",
    "elif BMI < 30:\n",
    "    print(f\"Your BMI is {BMI} which is overweight.\")\n",
    "elif BMI < 35:\n",
    "    print(f\"Your BMI is {BMI} which is obese.\")\n",
    "else:\n",
    "    print(f\"Your BMI is {BMI} which is clinically obese.\")\n",
    "'''"
   ]
  },
  {
   "cell_type": "markdown",
   "id": "7de8a152",
   "metadata": {},
   "source": [
    "### 3-3 Leap Year\n",
    "\n",
    "#### 💪This is a Difficult Challenge 💪\n",
    "\n",
    "#### Instructions\n",
    "\n",
    "Write a program that works out whether if a given year is a leap year. A normal year has 365 days, leap years have 366, with an extra day in February. The reason why we have leap years is really fascinating, this video does it more justice:\n",
    "\n",
    "[https://www.youtube.com/watch?v=xX96xng7sAE](https://www.youtube.com/watch?v=xX96xng7sAE)\n",
    "\n",
    "This is how you work out whether if a particular year is a leap year. \n",
    "\n",
    "> `on every year that is evenly divisible by 4\n",
    ">   **except** every year that is evenly divisible by 100\n",
    ">     **unless** the year is also evenly divisible by 400`\n",
    "\n",
    "e.g. The year 2000:\n",
    "\n",
    "2000 ÷ 4 = 500 (Leap)\n",
    "\n",
    "2000 ÷ 100 = 20 (Not Leap)\n",
    "\n",
    "2000 ÷ 400 = 5 (Leap!)\n",
    "\n",
    "So the year 2000 is a leap year.\n",
    "\n",
    "But the year 2100 is not a leap year because:\n",
    "\n",
    "2100 ÷  4 = 525 (Leap)\n",
    "\n",
    "2100 ÷ 100 = 21 (Not Leap)\n",
    "\n",
    "2100 ÷ 400 = 5.25 (Not Leap)\n",
    "\n",
    "**Warning** your output should match the Example Output format exactly, even the positions of the commas and full stops. \n",
    "\n",
    "#### Example Input 1\n",
    "\n",
    "```\n",
    "2400\n",
    "```\n",
    "\n",
    "#### Example Output 1\n",
    "\n",
    "```\n",
    "Leap year.\n",
    "```\n",
    "\n",
    "#### Example Input 2\n",
    "\n",
    "```\n",
    "1989\n",
    "```\n",
    "\n",
    "#### Example Output 2\n",
    "\n",
    "```\n",
    "Not leap year.\n",
    "```\n",
    "\n",
    "e.g. When you hit **run**, this is what should happen:  \n",
    "\n",
    " ![](https://cdn.fs.teachablecdn.com/AthNqKoSm6JD4sMom2X2)\n",
    "\n",
    "#### Hint\n",
    "\n",
    "1. Try to visualise the rules by creating a flow chart on www.draw.io\n",
    "2. If you really get stuck, you can see the flow chart I created: \n",
    "\n",
    "https://bit.ly/36BjS2D\n",
    "\n",
    "#### Test Your Code\n",
    "\n",
    "Before checking the solution, try copy-pasting your code into this repl: \n",
    "\n",
    "[https://repl.it/@appbrewery/day-3-3-test-your-code](https://repl.it/@appbrewery/day-3-3-test-your-code)\n",
    "\n",
    "This repl includes my testing code that will check if your code meets this assignment's objectives. \n",
    "\n",
    "\n",
    "#### Solution\n",
    "\n",
    "[https://repl.it/@appbrewery/day-3-3-solution](https://repl.it/@appbrewery/day-3-3-solution)"
   ]
  },
  {
   "cell_type": "code",
   "execution_count": 42,
   "id": "e3993629",
   "metadata": {},
   "outputs": [
    {
     "name": "stdin",
     "output_type": "stream",
     "text": [
      "Which year do you want to check?  100\n"
     ]
    },
    {
     "name": "stdout",
     "output_type": "stream",
     "text": [
      "This is not a leap year.\n"
     ]
    }
   ],
   "source": [
    "# 🚨 Don't change the code below 👇\n",
    "year = int(input(\"Which year do you want to check? \"))\n",
    "# 🚨 Don't change the code above 👆\n",
    "\n",
    "#Write your code below this line 👇\n",
    "\n",
    "check = False\n",
    "'''\n",
    "if year%4 == 0:\n",
    "    check = True\n",
    "elif year%4 == 0 and year%100 != 0:\n",
    "    check = True\n",
    "elif year%4 == 0 and year%100 == 0 and year%400 == 0:\n",
    "    check = True\n",
    "else:\n",
    "    check = False\n",
    "'''\n",
    "if year%4 == 0:\n",
    "    if year%100 != 0:\n",
    "        check = True\n",
    "    elif year%400 == 0:\n",
    "        check = True\n",
    "else:\n",
    "    check = False\n",
    "    \n",
    "if check:\n",
    "    print(\"This is a leap year.\")\n",
    "else:\n",
    "    print(\"This is not a leap year.\")"
   ]
  },
  {
   "cell_type": "code",
   "execution_count": 43,
   "id": "fc9af5b1",
   "metadata": {},
   "outputs": [
    {
     "name": "stdout",
     "output_type": "stream",
     "text": [
      "0 0 100\n"
     ]
    }
   ],
   "source": [
    "test = 100\n",
    "print(test%4, test%100, test%400)"
   ]
  },
  {
   "cell_type": "markdown",
   "id": "8305dea2-a6bd-4d78-afd0-1947233ed86b",
   "metadata": {},
   "source": [
    "## IF statements with multiple conditions\n",
    "\n",
    "if condition1:\n",
    "    do A\n",
    "    \n",
    "elif condition2:\n",
    "    do B\n",
    "    \n",
    "else condition3:\n",
    "    do C\n",
    "    \n",
    "\n",
    "\n",
    "condition2 is met, but also condition3 then ONLY B will be executed\n",
    "\n",
    "if condition1:\n",
    "    do A\n",
    "    \n",
    "if condition2:\n",
    "    do B\n",
    "    \n",
    "if condition3:\n",
    "    do C\n",
    "    \n",
    "\n",
    "condition2 is met, but also condition3 then B AND C will be executed"
   ]
  },
  {
   "cell_type": "code",
   "execution_count": 3,
   "id": "86f06118-1793-497f-9b82-421bc295bc59",
   "metadata": {},
   "outputs": [
    {
     "name": "stdout",
     "output_type": "stream",
     "text": [
      "Welcome to the rollercoaster!\n"
     ]
    },
    {
     "name": "stdin",
     "output_type": "stream",
     "text": [
      "What is your height in cm?  180\n"
     ]
    },
    {
     "name": "stdout",
     "output_type": "stream",
     "text": [
      "You can ride the rollercoaster!\n"
     ]
    },
    {
     "name": "stdin",
     "output_type": "stream",
     "text": [
      "What is your age?  48\n"
     ]
    },
    {
     "name": "stdout",
     "output_type": "stream",
     "text": [
      "Everything is going to be ok. Have a free ride on us!\n"
     ]
    },
    {
     "name": "stdin",
     "output_type": "stream",
     "text": [
      "Do you want a photo taken? Y or N.  N\n"
     ]
    },
    {
     "name": "stdout",
     "output_type": "stream",
     "text": [
      "Your final bill is $0\n"
     ]
    }
   ],
   "source": [
    "print(\"Welcome to the rollercoaster!\")\n",
    "height = int(input(\"What is your height in cm? \"))\n",
    "bill = 0\n",
    "\n",
    "if height >= 120:\n",
    "  print(\"You can ride the rollercoaster!\")\n",
    "  age = int(input(\"What is your age? \"))\n",
    "  if age < 12:\n",
    "    bill = 5\n",
    "    print(\"Child tickets are $5.\")\n",
    "  elif age <= 18:\n",
    "    bill = 7\n",
    "    print(\"Youth tickets are $7.\")\n",
    "  elif age >= 45 and age <= 55:\n",
    "    print(\"Everything is going to be ok. Have a free ride on us!\")\n",
    "  else:\n",
    "    bill = 12\n",
    "    print(\"Adult tickets are $12.\")\n",
    "  \n",
    "  wants_photo = input(\"Do you want a photo taken? Y or N. \")\n",
    "  if wants_photo == \"Y\":\n",
    "    bill += 3\n",
    "  \n",
    "  print(f\"Your final bill is ${bill}\")\n",
    "\n",
    "else:\n",
    "  print(\"Sorry, you have to grow taller before you can ride.\")\n"
   ]
  },
  {
   "cell_type": "markdown",
   "id": "d426cbd5-4879-42af-93b8-46381ef3f178",
   "metadata": {},
   "source": [
    "### 3-4 Pizza Order\n",
    "Instructions\n",
    "\n",
    "Congratulations, you've got a job at Python Pizza. Your first job is to build an automatic pizza order program.\n",
    "\n",
    "Based on a user's order, work out their final bill.\n",
    "\n",
    "Small Pizza: $15\n",
    "\n",
    "Medium Pizza: $20\n",
    "\n",
    "Large Pizza: $25\n",
    "\n",
    "Pepperoni for Small Pizza: +$2\n",
    "\n",
    "Pepperoni for Medium or Large Pizza: +$3\n",
    "\n",
    "Extra cheese for any size pizza: + $1\n",
    "\n",
    "Example Input\n",
    "\n",
    "size = \"L\"\n",
    "\n",
    "add_pepperoni = \"Y\"\n",
    "\n",
    "extra_cheese = \"N\"\n",
    "\n",
    "Example Output\n",
    "\n",
    "Your final bill is: $28.\n",
    "\n",
    "e.g. When you hit run, this is what should happen:\n",
    "\n",
    "https://cdn.fs.teachablecdn.com/p1evEkwQxGNR4WlolIb4\n",
    "Hint\n",
    "\n",
    "    Think about what you've learnt about multiple if statements and see if you can reduce the number of lines of code while having the same functionality."
   ]
  },
  {
   "cell_type": "code",
   "execution_count": 7,
   "id": "a186ce0a-db55-40b9-96bd-6e5d8d50b2f5",
   "metadata": {},
   "outputs": [
    {
     "name": "stdout",
     "output_type": "stream",
     "text": [
      "Welcome to Python Pizza Deliveries!\n"
     ]
    },
    {
     "name": "stdin",
     "output_type": "stream",
     "text": [
      "What size pizza do you want? S, M, or L  X\n",
      "Do you want pepperoni? Y or N  j\n",
      "Do you want extra cheese? Y or N  j\n"
     ]
    },
    {
     "name": "stdout",
     "output_type": "stream",
     "text": [
      "We don't have that kind of Pizza here. Please try again!\n",
      "Your total is €0!\n",
      "Bon Appetit!\n"
     ]
    }
   ],
   "source": [
    "# 🚨 Don't change the code below 👇\n",
    "print(\"Welcome to Python Pizza Deliveries!\")\n",
    "size = input(\"What size pizza do you want? S, M, or L \")\n",
    "add_pepperoni = input(\"Do you want pepperoni? Y or N \")\n",
    "extra_cheese = input(\"Do you want extra cheese? Y or N \")\n",
    "# 🚨 Don't change the code above 👆\n",
    "\n",
    "#Write your code below this line 👇\n",
    "total = 0\n",
    "if size ==\"S\":\n",
    "    print(\"Small Pizzas are €15\")\n",
    "    total += 15\n",
    "elif size ==\"M\":\n",
    "    print(\"Medium Pizzas are €20\")\n",
    "    total += 20\n",
    "elif size ==\"L\":\n",
    "    print(\"Large Pizzas are €25\")\n",
    "    total += 25\n",
    "else:\n",
    "    print(\"We don't have that kind of Pizza here. Please try again!\")\n",
    "    \n",
    "if add_pepperoni == \"Y\":\n",
    "    if size ==\"S\":\n",
    "        print(\"Extra Peperoni is +€2\")\n",
    "        total += 2\n",
    "    else:\n",
    "        print(\"Extra Peperoni is +€3\")\n",
    "        total += 3\n",
    "else:\n",
    "    pass\n",
    "\n",
    "if extra_cheese == \"Y\":\n",
    "        print(\"Extra Cheese is +€1\")\n",
    "        total += 1\n",
    "else:\n",
    "    pass\n",
    "\n",
    "print(f\"Your total is €{total}!\\nBon Appetit!\")"
   ]
  },
  {
   "cell_type": "markdown",
   "id": "028fae83-bda1-4183-bc64-f332528e30aa",
   "metadata": {},
   "source": [
    "## Logical Predicates\n",
    "\n",
    "A and B\n",
    "A or B\n",
    "not A\n"
   ]
  },
  {
   "cell_type": "markdown",
   "id": "14eca1f1-9f37-4555-a1ec-569454e5bc99",
   "metadata": {},
   "source": [
    "### 3-5 Love Calculator\n",
    "💪 This is a Difficult Challenge 💪\n",
    "Instructions\n",
    "\n",
    "You are going to write a program that tests the compatibility between two people.\n",
    "\n",
    "To work out the love score between two people:\n",
    "\n",
    "    Take both people's names and check for the number of times the letters in the word TRUE occurs. Then check for the number of times the letters in the word LOVE occurs. Then combine these numbers to make a 2 digit number. \n",
    "\n",
    "For Love Scores less than 10 or greater than 90, the message should be:\n",
    "\n",
    "\"Your score is **x**, you go together like coke and mentos.\"\n",
    "\n",
    "For Love Scores between 40 and 50, the message should be:\n",
    "\n",
    "\"Your score is **y**, you are alright together.\"\n",
    "\n",
    "Otherwise, the message will just be their score. e.g.:\n",
    "\n",
    "\"Your score is **z**.\"\n",
    "\n",
    "e.g.\n",
    "\n",
    "name1 = \"Angela Yu\"\n",
    "\n",
    "name2 = \"Jack Bauer\"\n",
    "\n",
    "T occurs 0 times\n",
    "\n",
    "R occurs 1 time\n",
    "\n",
    "U occurs 2 times\n",
    "\n",
    "E occurs 2 times\n",
    "\n",
    "Total = 5\n",
    "\n",
    "L occurs 1 time\n",
    "\n",
    "O occurs 0 times\n",
    "\n",
    "V occurs 0 times\n",
    "\n",
    "E occurs 2 times\n",
    "\n",
    "Total = 3\n",
    "\n",
    "Love Score = 53\n",
    "\n",
    "Print: \"Your score is 53.\"\n",
    "Example Input 1\n",
    "\n",
    "name1 = \"Kanye West\"\n",
    "\n",
    "name2 = \"Kim Kardashian\"\n",
    "\n",
    "Example Output 1\n",
    "\n",
    "Your score is 42, you are alright together.\n",
    "\n",
    "Example Input 2\n",
    "\n",
    "name1 = \"Brad Pitt\"\n",
    "\n",
    "name2 = \"Jennifer Aniston\"\n",
    "\n",
    "Example Output 2\n",
    "\n",
    "Your score is 73.\n",
    "\n",
    "e.g. When you hit run, this is what should happen:\n",
    "\n",
    "https://cdn.fs.teachablecdn.com/nfSILIPSNaIOwWhPR5vr\n",
    "\n",
    "The testing code will check for print output that is formatted like one of the lines below:\n",
    "\n",
    "\"Your score is 47, you are alright together.\"\n",
    "\"Your score is 125, you go together like coke and mentos.\"\n",
    "\"Your score is 54.\"\n",
    "\n",
    "Hint\n",
    "\n",
    "    The lower() function changes all the letters in a string to lower case. \n",
    "\n",
    "https://stackoverflow.com/questions/6797984/how-do-i-lowercase-a-string-in-python\n",
    "\n",
    "    The count() function will give you the number of times a letter occurs in a string. \n",
    "\n",
    "https://stackoverflow.com/questions/1155617/count-the-number-occurrences-of-a-character-in-a-string"
   ]
  },
  {
   "cell_type": "code",
   "execution_count": 21,
   "id": "c7dd3eb6-4ef7-4760-b141-4214d60e9dd1",
   "metadata": {},
   "outputs": [
    {
     "name": "stdout",
     "output_type": "stream",
     "text": [
      "Welcome to the Love Calculator!\n"
     ]
    },
    {
     "name": "stdin",
     "output_type": "stream",
     "text": [
      "What is your name? \n",
      " True Lo\n",
      "What is their name? \n",
      " \n"
     ]
    },
    {
     "name": "stdout",
     "output_type": "stream",
     "text": [
      "Your love score is 43% and you are alright together!\n"
     ]
    }
   ],
   "source": [
    "# 🚨 Don't change the code below 👇\n",
    "print(\"Welcome to the Love Calculator!\")\n",
    "name1 = input(\"What is your name? \\n\")\n",
    "name2 = input(\"What is their name? \\n\")\n",
    "# 🚨 Don't change the code above 👆\n",
    "\n",
    "#Write your code below this line 👇\n",
    "names = name1.lower()+name2.lower()\n",
    "\n",
    "t = names.count('t')\n",
    "r = names.count('r')\n",
    "u = names.count('u')\n",
    "e = names.count('e')\n",
    "l = names.count('l')\n",
    "o = names.count('o')\n",
    "v = names.count('v')\n",
    "\n",
    "true = (t + r + u + e)*10\n",
    "love = l + o + v + e\n",
    "\n",
    "truelove = true + love\n",
    "\n",
    "if (truelove < 10) or (truelove > 90):\n",
    "    print(f\"Your love score is {truelove}% and you go together like coke and mentos!\")\n",
    "elif 40 < truelove < 50:\n",
    "    print(f\"Your love score is {truelove}% and you are alright together!\")\n",
    "else:\n",
    "    print(f\"Your love score is {truelove}%!\")"
   ]
  },
  {
   "cell_type": "markdown",
   "id": "59a9bf6d-753d-44e3-9d61-99300e9f9186",
   "metadata": {},
   "source": [
    "## Escape Sequences\n",
    "\n",
    "If you wish the code to ignore a symbol, use \\ especially useful for \" and ' in a string"
   ]
  },
  {
   "cell_type": "code",
   "execution_count": 28,
   "id": "0b4bf198-d93d-405b-a6e5-bef791699a9e",
   "metadata": {},
   "outputs": [
    {
     "name": "stdout",
     "output_type": "stream",
     "text": [
      "You're going \"left\" or \"right\"\n"
     ]
    }
   ],
   "source": [
    "print(\"You\\'re going \\\"left\\\" or \\\"right\\\"\")"
   ]
  },
  {
   "cell_type": "markdown",
   "id": "d5d0319c-57bd-419e-a808-26002221bc24",
   "metadata": {},
   "source": [
    "## 3-Final\n",
    "Build your own adventure game"
   ]
  },
  {
   "cell_type": "code",
   "execution_count": 33,
   "id": "188ae8fe-c346-42d9-8e26-1136586f09f4",
   "metadata": {},
   "outputs": [
    {
     "name": "stdout",
     "output_type": "stream",
     "text": [
      "\n",
      "*******************************************************************************\n",
      "          |                   |                  |                     |\n",
      " _________|________________.=\"\"_;=.______________|_____________________|_______\n",
      "|                   |  ,-\"_,=\"\"     `\"=.|                  |\n",
      "|___________________|__\"=._o`\"-._        `\"=.______________|___________________\n",
      "          |                `\"=._o`\"=._      _`\"=._                     |\n",
      " _________|_____________________:=._o \"=._.\"_.-=\"'\"=.__________________|_______\n",
      "|                   |    __.--\" , ; `\"=._o.\" ,-\"\"\"-._ \".   |\n",
      "|___________________|_._\"  ,. .` ` `` ,  `\"-._\"-._   \". '__|___________________\n",
      "          |           |o`\"=._` , \"` `; .\". ,  \"-._\"-._; ;              |\n",
      " _________|___________| ;`-.o`\"=._; .\" ` '`.\"\\` . \"-._ /_______________|_______\n",
      "|                   | |o;    `\"-.o`\"=._``  '` \" ,__.--o;   |\n",
      "|___________________|_| ;     (#) `-.o `\"=.`_.--\"_o.-; ;___|___________________\n",
      "____/______/______/___|o;._    \"      `\".o|o_.--\"    ;o;____/______/______/____\n",
      "/______/______/______/_\"=._o--._        ; | ;        ; ;/______/______/______/_\n",
      "____/______/______/______/__\"=._o--._   ;o|o;     _._;o;____/______/______/____\n",
      "/______/______/______/______/____\"=._o._; | ;_.--\"o.--\"_/______/______/______/_\n",
      "____/______/______/______/______/_____\"=.o|o_.--\"\"___/______/______/______/____\n",
      "/______/______/______/______/______/______/______/______/______/______/_____ /\n",
      "*******************************************************************************\n",
      "\n",
      "Welcome to Treasure Island.\n",
      "Your mission is to find the treasure.\n",
      "\n",
      "         ____ /\\ ____            _ _   --           - -__     -_\n",
      "        /v y \\/\\/    \\                   --  --___     _ __--__ -\" _\n",
      "       ____\u0007 \\_^_^/ \\                            _ --        -_ \"-_\n",
      "      /    V/ \\/   \\ ^/\\            __                          _--,_\n",
      "     / \\^\\|/ \\()^7_ \\ ^|      /\">^/\",,\\                        /\"(\"\"    /\\^   / \\^_() 7_\\          LX<\"<,\\                      _/\"/\"|\\ )\\>_\n",
      "    |^    /\\ ()_|  7|        / >/ >O-,\"                 _/\"_.\" _/ / / \"          ^   \\_\\            ^\" V\"O^  V               /\"\"_-\" ,/\"  /\\  \\ ) \"-,_\n",
      "               \\_\\              '  \\>              _-\"/ ( .-/ \\ !   )  \\ _\"-_\"\\_\n",
      " ___ ___ ______ \\_\\ _ _____ ___ ___ \\> _ ___   _-\"/_-\"   / (    |  / \\  | \\  \\_- \"-_  __ _ _\n",
      "       _  _ _-   \\_\\   --  -   - --  \">   -<_\"__\" /  _/|   \\ \\ | /! \\  \\  -_( _\"-<_\">-- -\n",
      "              --  \\_`>    _--    _ ___\",\">-____ _\"> \"\"_\" \"--\"--\"-\" \"-\"' \"-\"  '\"  _\n",
      "                   \\__\">      C\"\" -_O   \"O-'           '\">        __ -  -\n",
      "  jjs    _ __()_ ___\"-__\"\\__ __)    - O         __ - - \"      - -\n",
      "                ()   _\">--\"> _ .-- \"      - \"\" \"\n",
      "                        \" \"\"\n",
      "\n"
     ]
    }
   ],
   "source": [
    "#https://www.draw.io/?lightbox=1&highlight=0000ff&edit=_blank&layers=1&nav=1&title=Treasure%20Island%20Conditional.drawio#Uhttps%3A%2F%2Fdrive.google.com%2Fuc%3Fid%3D1oDe4ehjWZipYRsVfeAx2HyB7LCQ8_Fvi%26export%3Ddownload\n",
    "print('''\n",
    "*******************************************************************************\n",
    "          |                   |                  |                     |\n",
    " _________|________________.=\"\"_;=.______________|_____________________|_______\n",
    "|                   |  ,-\"_,=\"\"     `\"=.|                  |\n",
    "|___________________|__\"=._o`\"-._        `\"=.______________|___________________\n",
    "          |                `\"=._o`\"=._      _`\"=._                     |\n",
    " _________|_____________________:=._o \"=._.\"_.-=\"'\"=.__________________|_______\n",
    "|                   |    __.--\" , ; `\"=._o.\" ,-\"\"\"-._ \".   |\n",
    "|___________________|_._\"  ,. .` ` `` ,  `\"-._\"-._   \". '__|___________________\n",
    "          |           |o`\"=._` , \"` `; .\". ,  \"-._\"-._; ;              |\n",
    " _________|___________| ;`-.o`\"=._; .\" ` '`.\"\\` . \"-._ /_______________|_______\n",
    "|                   | |o;    `\"-.o`\"=._``  '` \" ,__.--o;   |\n",
    "|___________________|_| ;     (#) `-.o `\"=.`_.--\"_o.-; ;___|___________________\n",
    "____/______/______/___|o;._    \"      `\".o|o_.--\"    ;o;____/______/______/____\n",
    "/______/______/______/_\"=._o--._        ; | ;        ; ;/______/______/______/_\n",
    "____/______/______/______/__\"=._o--._   ;o|o;     _._;o;____/______/______/____\n",
    "/______/______/______/______/____\"=._o._; | ;_.--\"o.--\"_/______/______/______/_\n",
    "____/______/______/______/______/_____\"=.o|o_.--\"\"___/______/______/______/____\n",
    "/______/______/______/______/______/______/______/______/______/______/_____ /\n",
    "*******************************************************************************\n",
    "''')\n",
    "print(\"Welcome to Treasure Island.\")\n",
    "print(\"Your mission is to find the treasure.\") \n",
    "print('''\n",
    "         ____ /\\ ____            _ _   --           - -__     -_\n",
    "        /v y \\/\\/    \\                   --  --___     _ __--__ -\" _\n",
    "       ____\\7 \\\\_^_^/ \\                            _ --        -_ \"-_\n",
    "      /    V/ \\/   \\ ^/\\            __                          _--,_\n",
    "     / \\^\\|/ \\()^7_ \\ ^|      /\">^/\",,\\                        /\"(\"\\\"\\\n",
    "    /\\^   / \\^_() 7_\\          LX<\"<,\\                      _/\"/\"|\\ )\\>_\n",
    "    |^    /\\ ()_|  7|        / >/ >O-,\\\"                 _/\"_.\" _/ / / \\\"\\\n",
    "          ^   \\_\\            ^\" V\"O^  V               /\"\"_-\" ,/\"  /\\  \\ ) \"-,_\n",
    "               \\_\\              '  \\>              _-\"/ ( .-/ \\ !   )  \\ _\\\"-_\"\\_\n",
    " ___ ___ ______ \\_\\ _ _____ ___ ___ \\> _ ___   _-\"/_-\"   / (    |  / \\  | \\  \\_- \"-_  __ _ _\n",
    "       _  _ _-   \\_\\   --  -   - --  \\\">   -<_\"__\" /  _/|   \\ \\ | /! \\  \\  -_( _\"-<_\">-- -\n",
    "              --  \\_`>    _--    _ ___\",\">-____ _\"> \"\"_\" \"--\"--\"-\" \"-\"' \"-\"  '\"  _\n",
    "                   \\__\">      C\"\" -_O   \"O-'           '\">        __ -  -\n",
    "  jjs    _ __()_ ___\"-__\"\\__ __)    - O         __ - - \"      - -\n",
    "                ()   _\">--\"> _ .-- \"      - \"\" \"\n",
    "                        \" \"\"\n",
    "''')\n",
    "choice1 = input('You\\'re at a cross road. Where do you want to go? Type \"left\" or \"right\" \\n').lower()\n",
    "if choice1 == \"left\":\n",
    "  choice2 = input('You\\'ve come to a lake. There is an island in the middle of the lake. Type \"wait\" to wait for a boat. Type \"swim\" to swim across. \\n').lower()\n",
    "  if choice2 == \"wait\":\n",
    "    choice3 = input(\"You arrive at the island unharmed. There is a house with 3 doors. One red, one yellow and one blue. Which colour do you choose? \\n\").lower()\n",
    "    if choice3 == \"red\":\n",
    "      print(\"It's a room full of fire. Game Over.\")\n",
    "    elif choice3 == \"yellow\":\n",
    "      print(\"You found the treasure! You Win!\")\n",
    "    elif choice3 == \"blue\":\n",
    "      print(\"You enter a room of beasts. Game Over.\")\n",
    "    else:\n",
    "      print(\"You chose a door that doesn't exist. Game Over.\")\n",
    "  else:\n",
    "    print(\"You get attacked by an angry trout. Game Over.\")\n",
    "else:\n",
    "  print(\"You fell into a hole. Game Over.\")"
   ]
  },
  {
   "cell_type": "code",
   "execution_count": null,
   "id": "e5f37f5e-a3a7-440d-9bc7-d7a4eb670de8",
   "metadata": {},
   "outputs": [],
   "source": []
  }
 ],
 "metadata": {
  "kernelspec": {
   "display_name": "Python 3",
   "language": "python",
   "name": "python3"
  },
  "language_info": {
   "codemirror_mode": {
    "name": "ipython",
    "version": 3
   },
   "file_extension": ".py",
   "mimetype": "text/x-python",
   "name": "python",
   "nbconvert_exporter": "python",
   "pygments_lexer": "ipython3",
   "version": "3.7.10"
  }
 },
 "nbformat": 4,
 "nbformat_minor": 5
}
