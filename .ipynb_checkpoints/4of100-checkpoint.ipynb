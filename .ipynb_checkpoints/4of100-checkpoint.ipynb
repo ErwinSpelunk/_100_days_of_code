{
 "cells": [
  {
   "cell_type": "markdown",
   "id": "ace55363",
   "metadata": {},
   "source": [
    "# Day 4 - all things random and lists\n",
    "## of 100 days of code\n",
    "\n",
    "DATE: 2021-05-13"
   ]
  },
  {
   "cell_type": "markdown",
   "id": "c84ac90d-8c0d-4158-9bab-4afe5a911681",
   "metadata": {},
   "source": [
    "Random number generator of python uses Mersenne Twister"
   ]
  },
  {
   "cell_type": "code",
   "execution_count": 14,
   "id": "39a2fa4f-bc87-4488-a5c5-4ee8edfaee9f",
   "metadata": {},
   "outputs": [
    {
     "name": "stdout",
     "output_type": "stream",
     "text": [
      "0.3287\n",
      "0.3363\n",
      "0.335\n"
     ]
    }
   ],
   "source": [
    "import random as rnd\n",
    "list_of_random_numbers = []\n",
    "N = 10000\n",
    "for j in range(N):\n",
    "    random_integer = rnd.randint(1,3)\n",
    "    list_of_random_numbers.append(random_integer)\n",
    "ones = list_of_random_numbers.count(1)\n",
    "twos = list_of_random_numbers.count(2)\n",
    "threes = list_of_random_numbers.count(3)\n",
    "\n",
    "print(ones/N)\n",
    "print(twos/N)\n",
    "print(threes/N)\n",
    "\n",
    "#print(random_integer)"
   ]
  },
  {
   "cell_type": "code",
   "execution_count": 15,
   "id": "5e550c62-8ba1-401c-a198-64848b559125",
   "metadata": {},
   "outputs": [
    {
     "data": {
      "text/plain": [
       "3.14159246"
      ]
     },
     "execution_count": 15,
     "metadata": {},
     "output_type": "execute_result"
    }
   ],
   "source": [
    "import modules as mods\n",
    "mods.pi"
   ]
  },
  {
   "cell_type": "markdown",
   "id": "58529796-eaed-499b-b4bb-dddeccd05ba4",
   "metadata": {},
   "source": [
    "### more random"
   ]
  },
  {
   "cell_type": "code",
   "execution_count": 36,
   "id": "c94f3cb2-3272-49f2-8ed1-355e108ff25f",
   "metadata": {},
   "outputs": [
    {
     "data": {
      "image/png": "[encoded data removed]",
      "text/plain": [
       "<Figure size 432x288 with 1 Axes>"
      ]
     },
     "metadata": {
      "needs_background": "light"
     },
     "output_type": "display_data"
    },
    {
     "data": {
      "image/png": "[encoded data removed]",
      "text/plain": [
       "<Figure size 432x288 with 1 Axes>"
      ]
     },
     "metadata": {
      "needs_background": "light"
     },
     "output_type": "display_data"
    }
   ],
   "source": [
    "import matplotlib.pyplot as plt\n",
    "import random as rnd\n",
    "\n",
    "N = 1000\n",
    "\n",
    "random_float = []\n",
    "for j in range(N):\n",
    "    random_float.append(rnd.random() + float(rnd.randint(0,4)))\n",
    "#print(random_float)\n",
    "\n",
    "mult_random_float = []\n",
    "for j in range(N):\n",
    "    mult_random_float.append(5*rnd.random())\n",
    "#print(mult_random_float)\n",
    "\n",
    "n, bins, patches = plt.hist(x=random_float, bins=5, color='b',\n",
    "                            alpha=0.5, rwidth=0.85)\n",
    "plt.show()\n",
    "n2, bins2, patches2 = plt.hist(x=mult_random_float, bins=5, color='k',\n",
    "                            alpha=0.5, rwidth=0.85)\n",
    "plt.show()"
   ]
  },
  {
   "cell_type": "markdown",
   "id": "a72440d2-7f75-466f-a1fb-eab208a15ba2",
   "metadata": {},
   "source": [
    "### Exercise 4-1 Heads or Tails\n",
    "\n",
    "#### Instructions\n",
    "\n",
    "You are going to write a virtual coin toss program. It will randomly tell the user \"Heads\" or \"Tails\".\n",
    "\n",
    "Important, the first letter should be capitalised and spelt exactly like in the example e.g. Heads, not heads.\n",
    "\n",
    "There are many ways of doing this. But to practice what we learnt in the last lesson, you should generate a random number, either 0 or 1. Then use that number to print out Heads or Tails.\n",
    "\n",
    "e.g.\n",
    "1 means Heads\n",
    "0 means Tails\n",
    "Example Output\n",
    "\n",
    "Heads\n",
    "\n",
    "or\n",
    "\n",
    "Tails\n",
    "\n",
    "Solution\n",
    "\n",
    "https://repl.it/@appbrewery/day-4-1-solution\n",
    "\n"
   ]
  },
  {
   "cell_type": "code",
   "execution_count": 56,
   "id": "6f089d76-acd7-45a5-ae9a-7e1060e01f73",
   "metadata": {},
   "outputs": [
    {
     "name": "stdout",
     "output_type": "stream",
     "text": [
      "Tails\n"
     ]
    }
   ],
   "source": [
    "#Write your code below this line 👇\n",
    "#Hint: Remember to import the random module first. 🎲\n",
    "import random as rnd\n",
    "\n",
    "random_int = rnd.randint(0,1)\n",
    "if random_int == 0:\n",
    "    answer = \"Heads\"\n",
    "if random_int == 1:\n",
    "    answer = \"Tails\"\n",
    "print(answer)"
   ]
  },
  {
   "cell_type": "markdown",
   "id": "3b48cfe2-2cdc-4888-a49a-f78e4fa57c90",
   "metadata": {},
   "source": [
    "## Lists\n",
    "alsways have the syntax:\n",
    "\n",
    "`list = [item1,item2]`"
   ]
  },
  {
   "cell_type": "code",
   "execution_count": 69,
   "id": "836a405a-c316-4f90-865e-cca638e14c26",
   "metadata": {},
   "outputs": [
    {
     "name": "stdout",
     "output_type": "stream",
     "text": [
      "Hamburg\n",
      "Hessen\n",
      "Hamburg\n",
      "Bremen\n",
      "Thüringen\n",
      "['Hamburg', 'Berlin', 'Thüringen', 'Hessen', 'Mecklenburg-Vorpommern', 'Bayern', 'Schleswig-Holstein']\n"
     ]
    }
   ],
   "source": [
    "bundeslaender = [\"Hamburg\", \"Berlin\", \"Bremen\", \"Hessen\"]\n",
    "\n",
    "print(bundeslaender[0])\n",
    "print(bundeslaender[-1])\n",
    "print(bundeslaender[-4])\n",
    "print(bundeslaender[2])\n",
    "bundeslaender[2] = \"Thüringen\"\n",
    "print(bundeslaender[2])\n",
    "\n",
    "bundeslaender.append(\"Mecklenburg-Vorpommern\")\n",
    "bundeslaender.extend([\"Bayern\", \"Schleswig-Holstein\"])\n",
    "\n",
    "print(bundeslaender)"
   ]
  },
  {
   "cell_type": "markdown",
   "id": "1c30d57e-0984-4e45-9d9a-7301e5feec71",
   "metadata": {},
   "source": [
    "## Exercise 4-2 - Who's Paying\n",
    "\n",
    "#### Instructions\n",
    "\n",
    "You are going to write a program which will select a random name from a list of names. The person selected will have to pay for everybody's food bill. \n",
    "\n",
    "**Important**: You are not allowed to use the `choice()` function.\n",
    "\n",
    "**Line 8** splits the string `names_string` into individual names and puts them inside a **List** called `names`. For this to work, you must enter all the names as name followed by comma then space. e.g. name, name, name\n",
    "\n",
    "#### Example Input\n",
    "\n",
    "```\n",
    "Angela, Ben, Jenny, Michael, Chloe\n",
    "```\n",
    "Note: notice that there is a space between the comma and the next name. \n",
    "#### Example Output\n",
    "\n",
    "```\n",
    "Michael is going to buy the meal today!\n",
    "```\n",
    "\n",
    "\n",
    "#### Hint\n",
    "\n",
    "1. You might need the help of the `len()` function.   \n",
    "\n",
    "[https://stackoverflow.com/questions/1712227/how-do-i-get-the-number-of-elements-in-a-list](https://stackoverflow.com/questions/1712227/how-do-i-get-the-number-of-elements-in-a-list)\n",
    "\n",
    "2. Remember that Lists start at index 0!\n",
    "\n",
    "#### Solution\n",
    "\n",
    "[https://repl.it/@appbrewery/day-4-2-solution](https://repl.it/@appbrewery/day-4-2-solution)"
   ]
  },
  {
   "cell_type": "code",
   "execution_count": 78,
   "id": "c38c1ceb-94f7-4fd4-8fb1-0a5fe4c03392",
   "metadata": {},
   "outputs": [
    {
     "name": "stdin",
     "output_type": "stream",
     "text": [
      "Give me everybody's names, separated by a comma \",\".  A, B, C, D, E, F\n"
     ]
    },
    {
     "name": "stdout",
     "output_type": "stream",
     "text": [
      "E has to pay today\n"
     ]
    }
   ],
   "source": [
    "# Split string method\n",
    "names_string = input(\"Give me everybody's names, separated by a comma \\\",\\\". \")\n",
    "names = names_string.split(\", \")\n",
    "# 🚨 Don't change the code above 👆\n",
    "\n",
    "#Write your code below this line 👇\n",
    "import random as rnd\n",
    "number_of_people = len(names)\n",
    "random_integer = rnd.randint(0, number_of_people - 1)\n",
    "#print(random_integer)\n",
    "loser = names[random_integer]\n",
    "print(f\"{loser} has to pay today\")\n"
   ]
  },
  {
   "cell_type": "markdown",
   "id": "f3339f3f-c078-4185-870e-0d0e28deac91",
   "metadata": {},
   "source": [
    "### alternative with random module's help"
   ]
  },
  {
   "cell_type": "code",
   "execution_count": 83,
   "id": "a9e667bf-ed15-44b5-b62c-1aca9970882e",
   "metadata": {},
   "outputs": [
    {
     "name": "stdin",
     "output_type": "stream",
     "text": [
      "Give me everybody's names, separated by a comma \",\".  A, B, C, D\n"
     ]
    },
    {
     "name": "stdout",
     "output_type": "stream",
     "text": [
      "B has to pay today\n"
     ]
    }
   ],
   "source": [
    "# Split string method\n",
    "names_string = input(\"Give me everybody's names, separated by a comma \\\",\\\". \")\n",
    "names = names_string.split(\", \")\n",
    "# 🚨 Don't change the code above 👆\n",
    "\n",
    "#Write your code below this line 👇\n",
    "import random as rnd\n",
    "loser = rnd.choice(names)\n",
    "print(f\"{loser} has to pay today\")\n"
   ]
  },
  {
   "cell_type": "markdown",
   "id": "1b092429-3929-426d-8d79-c27c87cc0f8d",
   "metadata": {},
   "source": [
    "Nested Lists"
   ]
  },
  {
   "cell_type": "code",
   "execution_count": 92,
   "id": "2f397803-7952-4c62-aff9-038e312c725a",
   "metadata": {},
   "outputs": [
    {
     "name": "stdout",
     "output_type": "stream",
     "text": [
      "['Strawberries', 'Nectarines', 'Apples', 'Grapes', 'Peaches', 'Cherries', 'Pears']\n",
      "Strawberries\n",
      "Spinach\n"
     ]
    }
   ],
   "source": [
    "dirty_dozen = [['Strawberries', 'Nectarines', 'Apples', 'Grapes', 'Peaches', 'Cherries', 'Pears'], ['Spinach', 'Kale', 'Tomatoes', 'Celery', 'Potatoes']]\n",
    "print(dirty_dozen[0])\n",
    "print(dirty_dozen[0][0])\n",
    "print(dirty_dozen[1][0])"
   ]
  },
  {
   "cell_type": "markdown",
   "id": "0b3a6358-0c93-49f9-b6cd-ec02ac365a5d",
   "metadata": {},
   "source": [
    "## Exercise 4-2 - Treasure Map\n",
    "\n",
    "https://cdn.fs.teachablecdn.com/wiFJAkZZSG2RpGsxYgDO\n",
    "Instructions\n",
    "\n",
    "You are going to write a program which will mark a spot with an X.\n",
    "\n",
    "In the starting code, you will find a variable called map.\n",
    "\n",
    "This map contains a nested list.\n",
    "When map is printed this is what the nested list looks like:\n",
    "\n",
    "['⬜️', '⬜️', '⬜️'],['⬜️', '⬜️', '⬜️'],['⬜️', '⬜️', '⬜️']\n",
    "\n",
    "In the starting code, we have used new lines (\\n) to format the three rows into a square, like this:\n",
    "\n",
    "['⬜️', '⬜️', '⬜️']\n",
    "['⬜️', '⬜️', '⬜️']\n",
    "['⬜️', '⬜️', '⬜️']\n",
    "\n",
    "This is to try and simulate the coordinates on a real map.\n",
    "\n",
    "Your job is to write a program that allows you to mark a square on the map using a two-digit system. The first digit is the vertical column number and the second digit is the horizontal row number. e.g.:\n",
    "\n",
    "https://cdn.fs.teachablecdn.com/2vnboIYTFFruvl9FJ2w5\n",
    "\n",
    "First your program must take the user input and convert it to a usable format.\n",
    "\n",
    "Next, you need to use it to update your nested list with an \"x\".\n",
    "Example Input 1\n",
    "\n",
    "column 2, row 3 would be entered as:\n",
    "\n",
    "23\n",
    "\n",
    "Example Output 1\n",
    "\n",
    "['⬜️', '⬜️', '⬜️']\n",
    "\n",
    "['⬜️', '⬜️', '⬜️']\n",
    "\n",
    "['⬜️', 'X', '⬜️']\n",
    "\n",
    "Example Input 2\n",
    "\n",
    "column 3, row 1 would be entered as:\n",
    "\n",
    "31\n",
    "\n",
    "Example Output 2\n",
    "\n",
    "['⬜️', '⬜️', 'X']\n",
    "\n",
    "['⬜️', '⬜️', '⬜️']\n",
    "\n",
    "['⬜️', '⬜️', '⬜️']\n",
    "\n",
    "e.g. When you hit run, this is what should happen:\n",
    "\n",
    "https://cdn.fs.teachablecdn.com/5hliFjyIR96LdestyfPd\n",
    "Hint\n",
    "\n",
    "    Remember that Lists start at index 0!\n",
    "    map is just a variable that contains a nested list. It's not related to the map function in Python.\n",
    "\n",
    "Solution\n",
    "\n",
    "https://repl.it/@appbrewery/day-4-3-solution"
   ]
  },
  {
   "cell_type": "code",
   "execution_count": 112,
   "id": "9d7c90cf-cba3-4644-86d7-637819a679d6",
   "metadata": {},
   "outputs": [
    {
     "name": "stdout",
     "output_type": "stream",
     "text": [
      "['⬜️', '⬜️', '⬜️']\n",
      "['⬜️', '⬜️', '⬜️']\n",
      "['⬜️', '⬜️', '⬜️']\n"
     ]
    },
    {
     "name": "stdin",
     "output_type": "stream",
     "text": [
      "Where do you want to put the treasure?  22\n"
     ]
    },
    {
     "name": "stdout",
     "output_type": "stream",
     "text": [
      "['⬜️', '⬜️', '⬜️']\n",
      "['⬜️', '💩', '⬜️']\n",
      "['⬜️', '⬜️', '⬜️']\n"
     ]
    }
   ],
   "source": [
    "# 🚨 Don't change the code below 👇\n",
    "row1 = [\"⬜️\",\"⬜️\",\"⬜️\"]\n",
    "row2 = [\"⬜️\",\"⬜️\",\"⬜️\"]\n",
    "row3 = [\"⬜️\",\"⬜️\",\"⬜️\"]\n",
    "map = [row1, row2, row3]\n",
    "print(f\"{row1}\\n{row2}\\n{row3}\")\n",
    "position = input(\"Where do you want to put the treasure? \")\n",
    "# 🚨 Don't change the code above 👆\n",
    "\n",
    "#Write your code below this row 👇\n",
    "row = int(position[0])\n",
    "column = int(position[1])\n",
    "\n",
    "#if row == 1:\n",
    "#    row1[column-1] = \"💩\"\n",
    "#elif row == 2:\n",
    "#    row2[column-1] = \"💩\"\n",
    "#elif row == 3:\n",
    "#    row3[column-1] = \"💩\"\n",
    "\n",
    "map[row-1][column-1] = \"💩\"\n",
    "\n",
    "#Write your code above this row 👆\n",
    "\n",
    "# 🚨 Don't change the code below 👇\n",
    "print(f\"{row1}\\n{row2}\\n{row3}\")"
   ]
  },
  {
   "cell_type": "markdown",
   "id": "6a2bff27-be18-4614-aad7-1849f938dd54",
   "metadata": {},
   "source": [
    "## Exercise 4-final - Rock, Paper, Scissors"
   ]
  },
  {
   "cell_type": "code",
   "execution_count": 155,
   "id": "e4003047-4309-47d8-bf60-a816055cdac6",
   "metadata": {},
   "outputs": [
    {
     "name": "stdin",
     "output_type": "stream",
     "text": [
      "What do you choose? Write \"r\" for rock, \"p\" for paper, \"s\" for scissors.\n",
      " r\n"
     ]
    },
    {
     "name": "stdout",
     "output_type": "stream",
     "text": [
      "You chose 🗿\n",
      "I chose ✂\n",
      "\n",
      "🏆🏆🏆\n",
      "You Win!\n",
      "🏆🏆🏆\n"
     ]
    }
   ],
   "source": [
    "import random as rnd\n",
    "rps = input(\"What do you choose? Write \\\"r\\\" for rock, \\\"p\\\" for paper, \\\"s\\\" for scissors.\\n\").lower()\n",
    "\n",
    "if (rps not in \"rps\") or (len(rps) != 1):\n",
    "    raise SystemExit(\"Invalid input, try again!\")\n",
    "    \n",
    "translator = {\"r\": 0, \"p\": 1, \"s\": 2}\n",
    "player_choice = translator[rps]\n",
    "\n",
    "rock = \"🗿\"\n",
    "paper = \"📄\"\n",
    "scissors = \"✂\"\n",
    "\n",
    "win = \"🏆\"\n",
    "draw = \"♻\"\n",
    "lose = \"💣\"\n",
    "\n",
    "rps_items = [rock, paper, scissors]\n",
    "result_items = [draw, win, lose] # indexing trick: -1 is last item\n",
    "result_names = [\"It\\'s a Draw!\", \"You Win!\", \"You Lose!\"]\n",
    "\n",
    "outcomes = [[0,-1,1], [1,0,-1], [-1,1,0]] # 0: draw, 1: win, -1: lose\n",
    "\n",
    "print(f\"You chose {rps_items[player_choice]}\")\n",
    "npc_choice = rnd.randint(0,2)\n",
    "print(f\"I chose {items[npc_choice]}\")\n",
    "\n",
    "result = outcomes[player_choice][npc_choice]\n",
    "\n",
    "print(f\"\\n{3*result_items[result]}\\n{result_names[result]}\\n{3*result_items[result]}\")"
   ]
  },
  {
   "cell_type": "code",
   "execution_count": null,
   "id": "4df06d73-2853-4cb7-9aec-af3f11006f1d",
   "metadata": {},
   "outputs": [],
   "source": []
  }
 ],
 "metadata": {
  "kernelspec": {
   "display_name": "Python 3",
   "language": "python",
   "name": "python3"
  },
  "language_info": {
   "codemirror_mode": {
    "name": "ipython",
    "version": 3
   },
   "file_extension": ".py",
   "mimetype": "text/x-python",
   "name": "python",
   "nbconvert_exporter": "python",
   "pygments_lexer": "ipython3",
   "version": "3.7.10"
  }
 },
 "nbformat": 4,
 "nbformat_minor": 5
}
