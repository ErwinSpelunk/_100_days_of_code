{
 "cells": [
  {
   "cell_type": "markdown",
   "id": "ace55363",
   "metadata": {},
   "source": [
    "# Day 5 - functions and karel\n",
    "## of 100 days of code\n",
    "\n",
    "DATE: 2021-05-14"
   ]
  },
  {
   "cell_type": "code",
   "execution_count": 2,
   "id": "e0980778-ab80-4f28-bc21-9471e3ffc5b5",
   "metadata": {},
   "outputs": [
    {
     "name": "stdout",
     "output_type": "stream",
     "text": [
      "Olá!\n"
     ]
    }
   ],
   "source": [
    "def my_function():\n",
    "    return print(\"Olá!\")\n",
    "\n",
    "my_function()"
   ]
  },
  {
   "cell_type": "markdown",
   "id": "ccef12f2-b105-4dcd-8935-193447ec158e",
   "metadata": {},
   "source": [
    "### tabs or spaces?\n",
    "\n",
    "Official style guide: 4 Spaces\n",
    "\n",
    "You can tell IDEs to replace tab by 4 spaces (btw. programmers who use space earn more;)"
   ]
  },
  {
   "cell_type": "markdown",
   "id": "a72440d2-7f75-466f-a1fb-eab208a15ba2",
   "metadata": {},
   "source": [
    "### Exercise 6-1 Reeborg\n",
    "\n",
    "play with Reeborg at\n",
    "https://reeborg.ca/"
   ]
  },
  {
   "cell_type": "markdown",
   "id": "b9e612d0-36ab-4361-b54b-65968bc4f055",
   "metadata": {},
   "source": [
    "### for vs while\n",
    "\n",
    "`for item in item_list:`\n",
    "\n",
    "`    do this to item`\n",
    "\n",
    "`while statement_is_true:`\n",
    "\n",
    "`    do this`\n",
    "\n",
    "\n",
    "#### danger of infinite while loop!"
   ]
  },
  {
   "cell_type": "code",
   "execution_count": null,
   "id": "b0f29263-de20-46c8-8208-b1962450cfa7",
   "metadata": {},
   "outputs": [],
   "source": [
    "### Exercises 6-2,3,4 Reeborg\n",
    "\n",
    "play with Reeborg at\n",
    "https://reeborg.ca/"
   ]
  },
  {
   "cell_type": "code",
   "execution_count": null,
   "id": "5e99b5a7-d371-4915-b36e-0a9c54e6f5ed",
   "metadata": {},
   "outputs": [],
   "source": [
    "def turn_right():\n",
    "    turn_left()\n",
    "    turn_left()\n",
    "    turn_left()\n",
    "\n",
    "def hurdle():\n",
    "    turn_left()\n",
    "    height = 0\n",
    "    while not right_is_clear():\n",
    "        move()\n",
    "        height += 1\n",
    "    turn_right()\n",
    "    move()\n",
    "    turn_right()\n",
    "    while height > 0:\n",
    "        move()\n",
    "        height -= 1\n",
    "    turn_left()\n",
    "\n",
    "while not at_goal():\n",
    "    if wall_in_front():\n",
    "        hurdle()\n",
    "    elif front_is_clear():\n",
    "        move()"
   ]
  },
  {
   "cell_type": "markdown",
   "id": "23f3bbdb-d990-4507-b374-86740516f5ae",
   "metadata": {},
   "source": [
    "official solution (forgot the while front is clear function)"
   ]
  },
  {
   "cell_type": "code",
   "execution_count": null,
   "id": "14ff5a0c-9691-43e2-88c0-6dc57a2e6928",
   "metadata": {},
   "outputs": [],
   "source": [
    "def turn_right():\n",
    "    turn_left()\n",
    "    turn_left()\n",
    "    turn_left()\n",
    "\n",
    "def hurdle():\n",
    "    turn_left()\n",
    "    while not right_is_clear():\n",
    "        move()\n",
    "    turn_right()\n",
    "    move()\n",
    "    turn_right()\n",
    "    while front_is_clear():\n",
    "        move()\n",
    "    turn_left()\n",
    "\n",
    "while not at_goal():\n",
    "    if wall_in_front():\n",
    "        hurdle()\n",
    "    elif front_is_clear():\n",
    "        move()\n"
   ]
  },
  {
   "cell_type": "markdown",
   "id": "d27fee09-5582-4cb8-9111-0870a1a09953",
   "metadata": {},
   "source": [
    "### Exercises 6-final Reeborg escape the maze\n",
    "\n",
    "play with Reeborg at\n",
    "https://reeborg.ca/"
   ]
  },
  {
   "cell_type": "code",
   "execution_count": null,
   "id": "84ca05c6-947c-4adc-ba8b-3a32baf00b41",
   "metadata": {},
   "outputs": [],
   "source": [
    "while not at_goal():\n",
    "    if wall_on_right() and front_is_clear():\n",
    "        move()\n",
    "    elif not wall_on_right():\n",
    "        turn_left()\n",
    "        turn_left()\n",
    "        turn_left()\n",
    "        move()\n",
    "    elif wall_on_right() and wall_in_front():\n",
    "        turn_left()"
   ]
  },
  {
   "cell_type": "markdown",
   "id": "c7185b68-08de-4119-a7e9-5e9599231708",
   "metadata": {},
   "source": [
    "### Exercises 6-final+ Reeborg escape the maze INTERMEDIATE DEBUGGING\n",
    "\n",
    "play with Reeborg at\n",
    "https://reeborg.ca/"
   ]
  },
  {
   "cell_type": "code",
   "execution_count": null,
   "id": "93eec611-fd7c-4dde-83fe-15b657e0f604",
   "metadata": {},
   "outputs": [],
   "source": [
    "def turn_right():\n",
    "    turn_left()\n",
    "    turn_left()\n",
    "    turn_left()\n",
    "\n",
    "memory = False\n",
    "while not at_goal():\n",
    "    if wall_on_right() and front_is_clear():\n",
    "        move()\n",
    "        memory = True\n",
    "    elif right_is_clear() and memory == True:\n",
    "        turn_right()\n",
    "        move()\n",
    "        memory = True\n",
    "    elif right_is_clear() and memory == False:\n",
    "        turn_right()\n",
    "        while front_is_clear():\n",
    "            move()\n",
    "    elif wall_on_right() and wall_in_front():\n",
    "        turn_left()\n",
    "        memory = True\n",
    "    else:\n",
    "        memory = False"
   ]
  },
  {
   "cell_type": "markdown",
   "id": "863dbcfd-7eaa-4342-b65b-1e5a5a81e9c5",
   "metadata": {},
   "source": [
    "### much easier with initialisation!"
   ]
  },
  {
   "cell_type": "code",
   "execution_count": null,
   "id": "365cd2d8-8897-4ebb-a58c-b3d6fe3e9c78",
   "metadata": {},
   "outputs": [],
   "source": [
    "def turn_right():\n",
    "    turn_left()\n",
    "    turn_left()\n",
    "    turn_left()\n",
    "\n",
    "# initialise\n",
    "while front_is_clear():\n",
    "    move()\n",
    "    turn_left()\n",
    "    \n",
    "# actual solution algorithm\n",
    "while not at_goal():\n",
    "    if wall_on_right() and front_is_clear():\n",
    "        move()\n",
    "    elif right_is_clear():\n",
    "        turn_right()\n",
    "        move()\n",
    "    elif wall_on_right() and wall_in_front():\n",
    "        turn_left()\n",
    "        memory = True\n",
    "    else:\n",
    "        memory = False"
   ]
  }
 ],
 "metadata": {
  "kernelspec": {
   "display_name": "Python 3",
   "language": "python",
   "name": "python3"
  },
  "language_info": {
   "codemirror_mode": {
    "name": "ipython",
    "version": 3
   },
   "file_extension": ".py",
   "mimetype": "text/x-python",
   "name": "python",
   "nbconvert_exporter": "python",
   "pygments_lexer": "ipython3",
   "version": "3.7.10"
  }
 },
 "nbformat": 4,
 "nbformat_minor": 5
}
