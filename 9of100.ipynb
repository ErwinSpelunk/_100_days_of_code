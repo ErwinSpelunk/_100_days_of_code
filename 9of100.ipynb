{
 "cells": [
  {
   "cell_type": "markdown",
   "metadata": {},
   "source": [
    "# Day 9 - Dictionairys, Nesting, secret auction\n",
    "## of 100 days of code\n",
    "\n",
    "DATE: 2021-10-22"
   ]
  },
  {
   "cell_type": "markdown",
   "metadata": {},
   "source": [
    "Don't forget: draw.io for creating flowcharts."
   ]
  },
  {
   "cell_type": "markdown",
   "metadata": {},
   "source": [
    "### Dictionaries:\n",
    "\n",
    "Have two parts:\n",
    "| Key | Value |\n",
    "|-----|-------|\n",
    "| always a String | also a String |\n",
    "|     |       |\n",
    "| Bug | error in a piece of code |\n",
    "|||\n",
    "\n",
    "> make it easier readible by indentation and a comma after the last value, to quickly add more items\n",
    "\n"
   ]
  },
  {
   "cell_type": "code",
   "execution_count": 1,
   "metadata": {},
   "outputs": [
    {
     "name": "stdout",
     "output_type": "stream",
     "text": [
      "Value 1\n",
      "{'Key 1': 'Value 1', 'Key 2': 'Value 2', 'Key 3': 'Value 3'}\n"
     ]
    }
   ],
   "source": [
    "mydictionary = {\n",
    "    \"Key 1\" : \"Value 1\",\n",
    "    \"Key 2\" : \"Value 2\",\n",
    "}\n",
    "\n",
    "print(mydictionary[\"Key 1\"])\n",
    "\n",
    "mydictionary[\"Key 3\"] = \"Value 3\"\n",
    "\n",
    "print(mydictionary)"
   ]
  },
  {
   "cell_type": "code",
   "execution_count": 2,
   "id": "bc90b412",
   "metadata": {},
   "outputs": [],
   "source": [
    "# create an empty dictionary\n",
    "\n",
    "empty_dict = {}\n",
    "\n",
    "# same as clearing a dictionary\n",
    "\n",
    "mydictionary = {}"
   ]
  },
  {
   "cell_type": "code",
   "execution_count": 3,
   "id": "b84e26ca",
   "metadata": {},
   "outputs": [],
   "source": [
    "# Loop through a Dictionary\n",
    "\n",
    "for key in mydictionary:\n",
    "    print(key)\n",
    "    print(mydictionary[key])"
   ]
  },
  {
   "cell_type": "markdown",
   "metadata": {},
   "source": [
    "### Exercise 9-1 Grading Program\n",
    "Instructions\n",
    "\n",
    "You have access to a database of student_scores in the format of a dictionary. The keys in student_scores are the names of the students and the values are their exam scores.\n",
    "\n",
    "Write a program that converts their scores to grades. By the end of your program, you should have a new dictionary called student_grades that should contain student names for keys and their grades for values. The final version of the student_grades dictionary will be checked.\n",
    "\n",
    "DO NOT modify lines 1-7 to change the existing student_scores dictionary.\n",
    "\n",
    "DO NOT write any print statements.\n",
    "\n",
    "This is the scoring criteria:\n",
    "\n",
    "    Scores 91 - 100: Grade = \"Outstanding\"\n",
    "\n",
    "    Scores 81 - 90: Grade = \"Exceeds Expectations\"\n",
    "\n",
    "    Scores 71 - 80: Grade = \"Acceptable\"\n",
    "\n",
    "    Scores 70 or lower: Grade = \"Fail\"\n",
    "\n",
    "Expected Output\n",
    "\n",
    "'{'Harry': 'Exceeds Expectations', 'Ron': 'Acceptable', 'Hermione': 'Outstanding', 'Draco': 'Acceptable', 'Neville': 'Fail'}'\n",
    "\n",
    "Hint\n",
    "\n",
    "    Remember that looping through a Dictionary will only give you the keys and not the values.\n",
    "\n",
    "    If in doubt as to why your code is not doing what you expected, you can always print out the intermediate values.\n",
    "\n",
    "    At the end of your program, the print statement will show the final student_scores dictionary, do not change this.\n",
    "\n",
    "Test Your Code\n",
    "\n",
    "Before checking the solution, try copy-pasting your code into this repl:\n",
    "\n",
    "https://repl.it/@appbrewery/day-9-1-test-your-code\n",
    "\n",
    "This repl includes my testing code that will check if your code meets this assignment's objectives.\n",
    "Solution\n",
    "\n",
    "https://repl.it/@appbrewery/day-9-1-solution"
   ]
  },
  {
   "cell_type": "markdown",
   "metadata": {},
   "source": []
  },
  {
   "cell_type": "code",
   "execution_count": 4,
   "metadata": {},
   "outputs": [
    {
     "name": "stdout",
     "output_type": "stream",
     "text": [
      "{'Harry': 'Exceeds Expectations', 'Ron': 'Acceptable', 'Hermione': 'Outstanding', 'Draco': 'Acceptable', 'Neville': 'Fail'}\n"
     ]
    }
   ],
   "source": [
    "student_scores = {\n",
    "  \"Harry\": 81,\n",
    "  \"Ron\": 78,\n",
    "  \"Hermione\": 99, \n",
    "  \"Draco\": 74,\n",
    "  \"Neville\": 62,\n",
    "}\n",
    "# 🚨 Don't change the code above 👆\n",
    "\n",
    "#TODO-1: Create an empty dictionary called student_grades.\n",
    "student_grades = {}\n",
    "\n",
    "#TODO-2: Write your code below to add the grades to student_grades.👇\n",
    "def grading_func(score):\n",
    "    if not type(score) == int:\n",
    "        return \"error: score is not an integer\"\n",
    "    else:\n",
    "        if 100 >= score > 90:\n",
    "            grading = \"Outstanding\"\n",
    "        elif 90 >= score > 80:\n",
    "            grading = \"Exceeds Expectations\"\n",
    "        elif 80 >= score > 70:\n",
    "            grading = \"Acceptable\"\n",
    "        elif 70 >= score >= 0:\n",
    "            grading = \"Fail\"\n",
    "        else:\n",
    "            print(\"something went wrong with the grading\")\n",
    "    return grading\n",
    "    \n",
    "for student in student_scores:\n",
    "    student_grades[student] = grading_func(student_scores[student])\n",
    "# 🚨 Don't change the code below 👇\n",
    "print(student_grades)"
   ]
  },
  {
   "cell_type": "markdown",
   "id": "689b74f9",
   "metadata": {},
   "source": [
    "## Nesting\n",
    "Lists and dictionaries can be nested inside a dictionary, also at the same time!"
   ]
  },
  {
   "cell_type": "code",
   "execution_count": 5,
   "id": "17746cd8",
   "metadata": {},
   "outputs": [],
   "source": [
    "capitals = {\n",
    "    \"france\" : \"paris\",\n",
    "    \"germany\" : \"berlin\",\n",
    "    \"england\" : \"london\",\n",
    "    \"ireland\" : \"dublin\",\n",
    "    \"scotland\" : \"edinburgh\",\n",
    "    }\n",
    "\n",
    "# dictionary of lists\n",
    "travel_log = {\n",
    "    \"france\" : [\"paris\", \"lille\",\"dijon\"],\n",
    "    \"germany\" : [\"berlin\", \"hamburg\", \"jena\"],\n",
    "}\n",
    "# mixed dictionary with lists, and so on\n",
    "travel_log2 = {\n",
    "    \"france\" : {\"cities visited\" : [\"paris\", \"lille\",\"dijon\"], \"total visits\" : 12},\n",
    "    \"germany\" : [\"berlin\", \"hamburg\"]\n",
    "}\n",
    "\n",
    "# list of dictionaries\n",
    "travel_log3 = [\n",
    "    {\n",
    "        \"country\" : \"france\",\n",
    "        \"cities visited\" : [\"paris\", \"lille\",\"dijon\"],\n",
    "        \"total visits\" : 12\n",
    "        },\n",
    "    {\n",
    "        \"country\" : \"germany\",\n",
    "        \"cities visited\" : [\"berlin\", \"hamburg\", \"jena\"],\n",
    "        \"total visits\" : 9\n",
    "        },\n",
    "]\n"
   ]
  },
  {
   "cell_type": "markdown",
   "id": "1ae71184",
   "metadata": {},
   "source": [
    "### Exercise 9-2 Dictionary in List\n",
    "Instructions\n",
    "\n",
    "You are going to write a program that adds to a travel_log. You can see a travel_log which is a List that contains 2 Dictionaries.\n",
    "\n",
    "Write a function that will work with the following line of code on line 21 to add the entry for Russia to the travel_log.\n",
    "\n",
    "add_new_country(\"Russia\", 2, [\"Moscow\", \"Saint Petersburg\"])\n",
    "\n",
    "    You've visited Russia 2 times.\n",
    "\n",
    "    You've been to Moscow and Saint Petersburg.\n",
    "\n",
    "DO NOT modify the travel_log directly. You need to create a function that modifies it.\n",
    "Hint\n",
    "\n",
    "    Look at the function call above to see what the name of the function should be.\n",
    "\n",
    "    The inputs for the function are positional arguments. The order is very important.\n",
    "\n",
    "    Feel free to choose your own parameter names.\n",
    "\n",
    "Test Your Code\n",
    "\n",
    "Before checking the solution, try copy-pasting your code into this repl:\n",
    "\n",
    "https://repl.it/@appbrewery/day-9-2-test-your-code\n",
    "\n",
    "This repl includes my testing code that will check if your code meets this assignment's objectives.\n",
    "Solution\n",
    "\n",
    "https://repl.it/@appbrewery/day-9-2-solution"
   ]
  },
  {
   "cell_type": "code",
   "execution_count": 6,
   "id": "118e1e7d",
   "metadata": {},
   "outputs": [
    {
     "name": "stdout",
     "output_type": "stream",
     "text": [
      "[{'country': 'France', 'visits': 12, 'cities': ['Paris', 'Lille', 'Dijon']}, {'country': 'Germany', 'visits': 5, 'cities': ['Berlin', 'Hamburg', 'Stuttgart']}, {'country': 'Russia', 'visits': 2, 'cities': ['Moscow', 'Saint Petersburg']}]\n"
     ]
    }
   ],
   "source": [
    "travel_log = [\n",
    "{\n",
    "  \"country\": \"France\",\n",
    "  \"visits\": 12,\n",
    "  \"cities\": [\"Paris\", \"Lille\", \"Dijon\"]\n",
    "},\n",
    "{\n",
    "  \"country\": \"Germany\",\n",
    "  \"visits\": 5,\n",
    "  \"cities\": [\"Berlin\", \"Hamburg\", \"Stuttgart\"]\n",
    "},\n",
    "]\n",
    "#🚨 Do NOT change the code above\n",
    "\n",
    "#TODO: Write the function that will allow new countries\n",
    "#to be added to the travel_log. 👇\n",
    "\n",
    "def add_new_country(add_country, add_visits, add_cities):\n",
    "    travel_log.append(\n",
    "        {\n",
    "            \"country\" : add_country,\n",
    "            \"visits\" : add_visits,\n",
    "            \"cities\" : add_cities,\n",
    "        }\n",
    "    )\n",
    "\n",
    "\"\"\"\n",
    "# Angelas Solution\n",
    "def add_new_country(add_country, add_visits, add_cities):\n",
    "    new_country = {}\n",
    "    new_country[\"country\"] = add_country\n",
    "    new_country[\"visits\"] = add_visits\n",
    "    new_country[\"cities\"] = add_cities\n",
    "    travel_log.append(new_country)\n",
    "\"\"\"\n",
    "\n",
    "\n",
    "#🚨 Do not change the code below\n",
    "add_new_country(\"Russia\", 2, [\"Moscow\", \"Saint Petersburg\"])\n",
    "print(travel_log)\n"
   ]
  },
  {
   "cell_type": "markdown",
   "id": "4a1754a4",
   "metadata": {},
   "source": [
    "### Exercise 9-3 blind auction (first-price sealed-bid auction)"
   ]
  },
  {
   "cell_type": "code",
   "execution_count": 10,
   "id": "21f46f08",
   "metadata": {},
   "outputs": [
    {
     "name": "stdout",
     "output_type": "stream",
     "text": [
      "\n",
      "                         ___________\n",
      "                         \\         /\n",
      "                          )_______(\n",
      "                          |\"\"\"\"\"\"\"|_.-._,.---------.,_.-._\n",
      "                          |       | | |               | | ''-.\n",
      "                          |       |_| |_             _| |_..-'\n",
      "                          |_______| '-' `'---------'` '-'\n",
      "                          )\"\"\"\"\"\"\"(\n",
      "                         /_________\\\n",
      "                       .-------------.\n",
      "                      /_______________\\\n",
      "\n",
      "The highest bid was given by Ronnie with 8.00,\n",
      "second was D with 4.00.\n",
      "Ronnie has to pay 4.40\n"
     ]
    }
   ],
   "source": [
    "from modules9of100 import logo\n",
    "import os\n",
    "clear = lambda: os.system('cls')\n",
    "clear()\n",
    "print(logo)\n",
    "goon = True\n",
    "#auction = {}\n",
    "auction = {\"A\" : 1., \"B\" : 2., \"C\" : 3., \"D\" : 4., }\n",
    "while goon:\n",
    "    new_name = input(\"What is your Name? : \")\n",
    "    new_bid = round(float(input(\"What is your bid? : € \")), 2)\n",
    "    auction[new_name] = new_bid\n",
    "    goon = bool(\"y\" == input(\"Is there another bidder? y/n : \").lower())\n",
    "    clear()\n",
    "\n",
    "winner = max(auction, key = auction.get)\n",
    "max_value = \"{:.2f}\".format(auction[winner])\n",
    "auction.pop(winner)\n",
    "second = max(auction)\n",
    "second_value = \"{:.2f}\".format(auction[second])\n",
    "payment = \"{:.2f}\".format(round(float(second_value) * 1.1, 2))\n",
    "print(f\"The highest bid was given by {winner} with {max_value},\")\n",
    "print(f\"second was {second} with {second_value}.\")\n",
    "print(f\"{winner} has to pay {payment}\")"
   ]
  }
 ],
 "metadata": {
  "interpreter": {
   "hash": "155f34edff4f9ca243d67e675b42680a07c25f53d0738dbe0be9e3b73ef7e13a"
  },
  "kernelspec": {
   "display_name": "Python 3.9.7 64-bit",
   "name": "python3"
  },
  "language_info": {
   "codemirror_mode": {
    "name": "ipython",
    "version": 3
   },
   "file_extension": ".py",
   "mimetype": "text/x-python",
   "name": "python",
   "nbconvert_exporter": "python",
   "pygments_lexer": "ipython3",
   "version": "3.9.7"
  }
 },
 "nbformat": 4,
 "nbformat_minor": 5
}
