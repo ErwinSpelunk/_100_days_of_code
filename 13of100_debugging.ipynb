{
 "cells": [
  {
   "cell_type": "markdown",
   "metadata": {},
   "source": [
    "# Day 13 - Debugging\n",
    "## of 100 days of code\n",
    "\n",
    "DATE: 2021-10-28"
   ]
  },
  {
   "cell_type": "markdown",
   "metadata": {},
   "source": [
    "Don't forget: draw.io for creating flowcharts."
   ]
  },
  {
   "cell_type": "markdown",
   "id": "f976657b",
   "metadata": {},
   "source": [
    "1. Describe the problem\n",
    "2. Reproduce the Bug\n"
   ]
  },
  {
   "cell_type": "code",
   "execution_count": 29,
   "id": "54a7b1a3",
   "metadata": {},
   "outputs": [
    {
     "name": "stdout",
     "output_type": "stream",
     "text": [
      "[26]\n"
     ]
    }
   ],
   "source": [
    "############DEBUGGING#####################\n",
    "\n",
    "# # Describe Problem\n",
    "# def my_function():\n",
    "# #  for i in range(1, 20): # range function goes from 1 to 20 - 1!\n",
    "#   for i in range(1, 21):\n",
    "#     if i == 20:\n",
    "#       print(\"You got it\")\n",
    "#  my_function()\n",
    "\n",
    "# # Reproduce the Bug\n",
    "# from random import randint\n",
    "# dice_imgs = [\"❶\", \"❷\", \"❸\", \"❹\", \"❺\", \"❻\"]\n",
    "# # dice_num = randint(1, 6) # randint goes from 1 to 6 including 6!\n",
    "# # dice_num = 6 # reproduce continuously -> also 0 will never show\n",
    "# for _ in range(10):\n",
    "#     dice_num = randint(0,5)\n",
    "#     print(dice_imgs[dice_num])\n",
    "\n",
    "# # Play Computer\n",
    "# year = int(input(\"What's your year of birth?\"))\n",
    "# if year > 1980 and year < 1994:\n",
    "#   print(\"You are a millenial.\")\n",
    "# # elif year > 1994: # case 1994 == is not caught\n",
    "# elif year >= 1994:\n",
    "#   print(\"You are a Gen Z.\")\n",
    "\n",
    "# # Fix the Errors\n",
    "# # age = input(\"How old are you?\") # input returns a string!\n",
    "# age = int(input(\"How old are you?\"))\n",
    "# if age > 18:\n",
    "#     print(f\"You can drive at age {age}.\")\n",
    "\n",
    "# #Print is Your Friend\n",
    "# pages = 0\n",
    "# word_per_page = 0\n",
    "# pages = int(input(\"Number of pages: \"))\n",
    "# print(f\"{pages = }\")\n",
    "# word_per_page = int(input(\"Number of words per page: \"))\n",
    "# print(f\"{word_per_page = }\")\n",
    "# total_words = pages * word_per_page\n",
    "# print(f\"{total_words = }\")\n",
    "\n",
    "# #Use a Debugger\n",
    "# def mutate(a_list):\n",
    "#   b_list = []\n",
    "#   for item in a_list:\n",
    "#     new_item = item * 2\n",
    "# # indentation error\n",
    "#     b_list.append(new_item)\n",
    "#   print(b_list)\n",
    "\n",
    "# mutate([1,2,3,5,8,13])"
   ]
  },
  {
   "cell_type": "markdown",
   "id": "b7890250",
   "metadata": {},
   "source": [
    "## Exercise 13-1 "
   ]
  }
 ],
 "metadata": {
  "interpreter": {
   "hash": "155f34edff4f9ca243d67e675b42680a07c25f53d0738dbe0be9e3b73ef7e13a"
  },
  "kernelspec": {
   "display_name": "Python 3.9.7 64-bit",
   "name": "python3"
  },
  "language_info": {
   "codemirror_mode": {
    "name": "ipython",
    "version": 3
   },
   "file_extension": ".py",
   "mimetype": "text/x-python",
   "name": "python",
   "nbconvert_exporter": "python",
   "pygments_lexer": "ipython3",
   "version": "3.9.7"
  }
 },
 "nbformat": 4,
 "nbformat_minor": 5
}
