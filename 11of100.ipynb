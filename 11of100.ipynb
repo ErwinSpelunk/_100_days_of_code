{
 "cells": [
  {
   "cell_type": "markdown",
   "metadata": {},
   "source": [
    "# Day 11 - Blackjack Capstone Project\n",
    "## of 100 days of code\n",
    "\n",
    "DATE: 2021-10-23"
   ]
  },
  {
   "cell_type": "markdown",
   "id": "4ae2952b",
   "metadata": {},
   "source": [
    "### Don't forget: draw.io for creating flowcharts."
   ]
  },
  {
   "cell_type": "markdown",
   "id": "d48d5164",
   "metadata": {},
   "source": [
    "## Exercise 11-1"
   ]
  }
 ],
 "metadata": {
  "interpreter": {
   "hash": "155f34edff4f9ca243d67e675b42680a07c25f53d0738dbe0be9e3b73ef7e13a"
  },
  "kernelspec": {
   "display_name": "Python 3.9.7 64-bit",
   "name": "python3"
  },
  "language_info": {
   "codemirror_mode": {
    "name": "ipython",
    "version": 3
   },
   "file_extension": ".py",
   "mimetype": "text/x-python",
   "name": "python",
   "nbconvert_exporter": "python",
   "pygments_lexer": "ipython3",
   "version": "3.9.7"
  }
 },
 "nbformat": 4,
 "nbformat_minor": 5
}
