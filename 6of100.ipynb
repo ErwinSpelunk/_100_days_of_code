{
 "cells": [
  {
   "cell_type": "markdown",
   "metadata": {},
   "source": [
    "# Day 6 - functions and karel\r\n",
    "## of 100 days of code\r\n",
    "\r\n",
    "DATE: 2021-05-14"
   ]
  },
  {
   "cell_type": "code",
   "execution_count": 2,
   "metadata": {},
   "outputs": [
    {
     "name": "stdout",
     "output_type": "stream",
     "text": [
      "Olá!\n"
     ]
    }
   ],
   "source": [
    "def my_function():\n",
    "    return print(\"Olá!\")\n",
    "\n",
    "my_function()"
   ]
  },
  {
   "cell_type": "markdown",
   "metadata": {},
   "source": [
    "### tabs or spaces?\n",
    "\n",
    "Official style guide: 4 Spaces\n",
    "\n",
    "You can tell IDEs to replace tab by 4 spaces (btw. programmers who use space earn more;)"
   ]
  },
  {
   "cell_type": "markdown",
   "metadata": {},
   "source": [
    "### Exercise 6-1 Reeborg\n",
    "\n",
    "play with Reeborg at\n",
    "https://reeborg.ca/"
   ]
  },
  {
   "cell_type": "markdown",
   "metadata": {},
   "source": [
    "### for vs while\n",
    "\n",
    "`for item in item_list:`\n",
    "\n",
    "`    do this to item`\n",
    "\n",
    "`while statement_is_true:`\n",
    "\n",
    "`    do this`\n",
    "\n",
    "\n",
    "#### danger of infinite while loop!"
   ]
  },
  {
   "cell_type": "code",
   "execution_count": null,
   "metadata": {},
   "outputs": [],
   "source": [
    "### Exercises 6-2,3,4 Reeborg\n",
    "\n",
    "play with Reeborg at\n",
    "https://reeborg.ca/"
   ]
  },
  {
   "cell_type": "code",
   "execution_count": null,
   "metadata": {},
   "outputs": [],
   "source": [
    "def turn_right():\n",
    "    turn_left()\n",
    "    turn_left()\n",
    "    turn_left()\n",
    "\n",
    "def hurdle():\n",
    "    turn_left()\n",
    "    height = 0\n",
    "    while not right_is_clear():\n",
    "        move()\n",
    "        height += 1\n",
    "    turn_right()\n",
    "    move()\n",
    "    turn_right()\n",
    "    while height > 0:\n",
    "        move()\n",
    "        height -= 1\n",
    "    turn_left()\n",
    "\n",
    "while not at_goal():\n",
    "    if wall_in_front():\n",
    "        hurdle()\n",
    "    elif front_is_clear():\n",
    "        move()"
   ]
  },
  {
   "cell_type": "markdown",
   "metadata": {},
   "source": [
    "official solution (forgot the while front is clear function)"
   ]
  },
  {
   "cell_type": "code",
   "execution_count": null,
   "metadata": {},
   "outputs": [],
   "source": [
    "def turn_right():\n",
    "    turn_left()\n",
    "    turn_left()\n",
    "    turn_left()\n",
    "\n",
    "def hurdle():\n",
    "    turn_left()\n",
    "    while not right_is_clear():\n",
    "        move()\n",
    "    turn_right()\n",
    "    move()\n",
    "    turn_right()\n",
    "    while front_is_clear():\n",
    "        move()\n",
    "    turn_left()\n",
    "\n",
    "while not at_goal():\n",
    "    if wall_in_front():\n",
    "        hurdle()\n",
    "    elif front_is_clear():\n",
    "        move()\n"
   ]
  },
  {
   "cell_type": "markdown",
   "metadata": {},
   "source": [
    "### Exercises 6-final Reeborg escape the maze\n",
    "\n",
    "play with Reeborg at\n",
    "https://reeborg.ca/"
   ]
  },
  {
   "cell_type": "code",
   "execution_count": null,
   "metadata": {},
   "outputs": [],
   "source": [
    "while not at_goal():\n",
    "    if wall_on_right() and front_is_clear():\n",
    "        move()\n",
    "    elif not wall_on_right():\n",
    "        turn_left()\n",
    "        turn_left()\n",
    "        turn_left()\n",
    "        move()\n",
    "    elif wall_on_right() and wall_in_front():\n",
    "        turn_left()"
   ]
  },
  {
   "cell_type": "markdown",
   "metadata": {},
   "source": [
    "### Exercises 6-final+ Reeborg escape the maze INTERMEDIATE DEBUGGING\n",
    "\n",
    "play with Reeborg at\n",
    "https://reeborg.ca/"
   ]
  },
  {
   "cell_type": "code",
   "execution_count": null,
   "metadata": {},
   "outputs": [],
   "source": [
    "def turn_right():\n",
    "    turn_left()\n",
    "    turn_left()\n",
    "    turn_left()\n",
    "\n",
    "memory = False\n",
    "while not at_goal():\n",
    "    if wall_on_right() and front_is_clear():\n",
    "        move()\n",
    "        memory = True\n",
    "    elif right_is_clear() and memory == True:\n",
    "        turn_right()\n",
    "        move()\n",
    "        memory = True\n",
    "    elif right_is_clear() and memory == False:\n",
    "        turn_right()\n",
    "        while front_is_clear():\n",
    "            move()\n",
    "    elif wall_on_right() and wall_in_front():\n",
    "        turn_left()\n",
    "        memory = True\n",
    "    else:\n",
    "        memory = False"
   ]
  },
  {
   "cell_type": "markdown",
   "metadata": {},
   "source": [
    "### much easier with initialisation!"
   ]
  },
  {
   "cell_type": "code",
   "execution_count": null,
   "metadata": {},
   "outputs": [],
   "source": [
    "def turn_right():\n",
    "    turn_left()\n",
    "    turn_left()\n",
    "    turn_left()\n",
    "\n",
    "# initialise\n",
    "while front_is_clear():\n",
    "    move()\n",
    "    turn_left()\n",
    "    \n",
    "# actual solution algorithm\n",
    "while not at_goal():\n",
    "    if wall_on_right() and front_is_clear():\n",
    "        move()\n",
    "    elif right_is_clear():\n",
    "        turn_right()\n",
    "        move()\n",
    "    elif wall_on_right() and wall_in_front():\n",
    "        turn_left()\n",
    "        memory = True\n",
    "    else:\n",
    "        memory = False"
   ]
  }
 ],
 "metadata": {
  "interpreter": {
   "hash": "155f34edff4f9ca243d67e675b42680a07c25f53d0738dbe0be9e3b73ef7e13a"
  },
  "kernelspec": {
   "display_name": "Python 3.9.5 64-bit",
   "name": "python3"
  },
  "language_info": {
   "name": "python",
   "version": ""
  }
 },
 "nbformat": 4,
 "nbformat_minor": 5
}