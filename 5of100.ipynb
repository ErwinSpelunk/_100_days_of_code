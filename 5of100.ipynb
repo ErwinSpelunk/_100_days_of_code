{
 "cells": [
  {
   "cell_type": "markdown",
   "id": "ace55363",
   "metadata": {},
   "source": [
    "# Day 5 - for loops\n",
    "## of 100 days of code\n",
    "\n",
    "DATE: 2021-05-13"
   ]
  },
  {
   "cell_type": "markdown",
   "id": "c84ac90d-8c0d-4158-9bab-4afe5a911681",
   "metadata": {},
   "source": [
    "`for item in list:`\n",
    "\n",
    "`    # do thing to item`"
   ]
  },
  {
   "cell_type": "code",
   "execution_count": 156,
   "id": "e0980778-ab80-4f28-bc21-9471e3ffc5b5",
   "metadata": {},
   "outputs": [
    {
     "name": "stdout",
     "output_type": "stream",
     "text": [
      "Apple\n",
      "Peach\n",
      "Pear\n"
     ]
    }
   ],
   "source": [
    "fruits = [\"Apple\", \"Peach\", \"Pear\"]\n",
    "for fruit in fruits:\n",
    "    print(fruit)"
   ]
  },
  {
   "cell_type": "markdown",
   "id": "a72440d2-7f75-466f-a1fb-eab208a15ba2",
   "metadata": {},
   "source": [
    "### Exercise 5-1 Average Height\n",
    "Instructions\n",
    "\n",
    "You are going to write a program that calculates the average student height from a List of heights.\n",
    "\n",
    "e.g. student_heights = [180, 124, 165, 173, 189, 169, 146]\n",
    "\n",
    "The average height can be calculated by adding all the heights together and dividing by the total number of heights.\n",
    "\n",
    "e.g.\n",
    "\n",
    "180 + 124 + 165 + 173 + 189 + 169 + 146 = 1146\n",
    "\n",
    "There are a total of 7 heights in student_heights\n",
    "\n",
    "1146 ÷ 7 = 163.71428571428572\n",
    "\n",
    "Average height rounded to the nearest whole number = 164\n",
    "\n",
    "Important You should not use the sum() or len() functions in your answer. You should try to replicate their functionality using what you have learnt about for loops."
   ]
  },
  {
   "cell_type": "code",
   "execution_count": 163,
   "id": "6f089d76-acd7-45a5-ae9a-7e1060e01f73",
   "metadata": {},
   "outputs": [
    {
     "name": "stdout",
     "output_type": "stream",
     "text": [
      "The average student is 164 cm tall.\n"
     ]
    }
   ],
   "source": [
    "# 🚨 Don't change the code below 👇\n",
    "# student_heights = input(\"Input a list of student heights \").split()\n",
    "student_heights = [180, 124, 165, 173, 189, 169, 146]\n",
    "for n in range(0, len(student_heights)):\n",
    "  student_heights[n] = int(student_heights[n])\n",
    "# 🚨 Don't change the code above 👆\n",
    "\n",
    "\n",
    "#Write your code below this row 👇\n",
    "height = 0\n",
    "num_students = 0\n",
    "for student in student_heights:\n",
    "    height += student\n",
    "    num_students += 1\n",
    "\n",
    "average_height = round(height/num_students)\n",
    "print(f\"The average student is {average_height} cm tall.\")"
   ]
  },
  {
   "cell_type": "markdown",
   "id": "640568eb-0027-4512-b0fc-c26d6d0c7bc8",
   "metadata": {},
   "source": [
    "### Exercise 5-2 Highest Score\n",
    "Instructions\n",
    "\n",
    "You are going to write a program that calculates the highest score from a List of scores.\n",
    "\n",
    "e.g. student_scores = [78, 65, 89, 86, 55, 91, 64, 89]\n",
    "\n",
    "Important you are not allowed to use the max or min functions. The output words must match the example. i.e\n",
    "\n",
    "    The highest score in the class is: x\n",
    "\n",
    "Example Input\n",
    "\n",
    "78 65 89 86 55 91 64 89\n",
    "\n",
    "In this case, student_scores would be a list that looks like: [78, 65, 89, 86, 55, 91, 64, 89]\n",
    "Example Output\n",
    "\n",
    "The highest score in the class is: 91\n",
    "\n",
    "e.g. When you hit run, this is what should happen:\n",
    "\n",
    "https://cdn.fs.teachablecdn.com/DnSPgYNSTgeHRJ3MinHg\n",
    "Hint\n",
    "\n",
    "    Think about the logic before writing code. How can you compare numbers against each other to see which one is larger?\n",
    "\n",
    "Test Your Code\n",
    "\n",
    "Before checking the solution, try copy-pasting your code into this repl:\n",
    "\n",
    "https://repl.it/@appbrewery/day-5-2-test-your-code\n",
    "\n",
    "This repl includes my testing code that will check if your code meets this assignment's objectives.\n",
    "Solution\n",
    "\n",
    "https://repl.it/@appbrewery/day-5-2-solution"
   ]
  },
  {
   "cell_type": "code",
   "execution_count": 164,
   "id": "9ad8fde0-de84-43ab-adb9-deeff7cb3e5f",
   "metadata": {},
   "outputs": [
    {
     "name": "stdout",
     "output_type": "stream",
     "text": [
      "[78, 65, 89, 86, 55, 91, 64, 89]\n",
      "The maximum score is: 91\n"
     ]
    }
   ],
   "source": [
    "# 🚨 Don't change the code below 👇\n",
    "#student_scores = input(\"Input a list of student scores \").split()\n",
    "student_scores = [78, 65, 89, 86, 55, 91, 64, 89]\n",
    "for n in range(0, len(student_scores)):\n",
    "  student_scores[n] = int(student_scores[n])\n",
    "print(student_scores)\n",
    "# 🚨 Don't change the code above 👆\n",
    "\n",
    "#Write your code below this row 👇\n",
    "max_score = 0\n",
    "for score in student_scores:\n",
    "    if score > max_score:\n",
    "        max_score = score\n",
    "    else:\n",
    "        pass\n",
    "    \n",
    "print(f\"The maximum score is: {max_score}\")"
   ]
  },
  {
   "cell_type": "markdown",
   "id": "cf4df00f-675a-4c7b-b4d6-841365b59528",
   "metadata": {},
   "source": [
    "## range function\n",
    "`range(a,b)`"
   ]
  },
  {
   "cell_type": "code",
   "execution_count": 167,
   "id": "7281bbe8-5171-481e-b41a-06228d3881c9",
   "metadata": {},
   "outputs": [
    {
     "name": "stdout",
     "output_type": "stream",
     "text": [
      "1\n",
      "2\n",
      "3\n",
      "4\n",
      "5\n",
      "6\n",
      "7\n",
      "8\n",
      "9\n",
      "10\n"
     ]
    }
   ],
   "source": [
    "for number in range(1,11):\n",
    "    print(number)"
   ]
  },
  {
   "cell_type": "code",
   "execution_count": 170,
   "id": "ea37238f-48dc-41fe-acf2-8b9be50d0a7b",
   "metadata": {},
   "outputs": [
    {
     "name": "stdout",
     "output_type": "stream",
     "text": [
      "5050\n"
     ]
    }
   ],
   "source": [
    "total = 0\n",
    "for number in range(1,101):\n",
    "    total += number\n",
    "print(total)"
   ]
  },
  {
   "cell_type": "markdown",
   "id": "c9912f70-0601-4abf-a19d-651aa44dc349",
   "metadata": {},
   "source": [
    "### Exercise 5-3 Adding Evens\n",
    "Instructions\n",
    "\n",
    "You are going to write a program that calculates the sum of all the even numbers from 1 to 100. Thus, the first even number would be 2 and the last one is 100:\n",
    "\n",
    "i.e. 2 + 4 + 6 + 8 +10 ... + 98 + 100\n",
    "\n",
    "Important, there should only be 1 print statement in your console output. It should just print the final total and not every step of the calculation.\n",
    "Hint\n",
    "\n",
    "    There are quite a few ways of solving this problem, but you will need to use the range() function in any of the solutions.\n",
    "\n",
    "Solution\n",
    "\n",
    "https://repl.it/@appbrewery/day-5-3-solution"
   ]
  },
  {
   "cell_type": "code",
   "execution_count": 181,
   "id": "a150bf2d-85fe-4c0c-9306-7788a473ebe0",
   "metadata": {},
   "outputs": [
    {
     "name": "stdout",
     "output_type": "stream",
     "text": [
      "2550\n"
     ]
    }
   ],
   "source": [
    "total = 0\n",
    "for number in range(0,101,2):\n",
    "    total += number\n",
    "print(total)"
   ]
  },
  {
   "cell_type": "code",
   "execution_count": 182,
   "id": "df0d5f79-c74d-45ba-b46d-ee9514ef06a1",
   "metadata": {},
   "outputs": [
    {
     "name": "stdout",
     "output_type": "stream",
     "text": [
      "2550\n"
     ]
    }
   ],
   "source": [
    "total = 0\n",
    "for number in range(0,101):\n",
    "    if number%2 == 0:\n",
    "        total += number\n",
    "    else:\n",
    "        pass\n",
    "print(total)"
   ]
  },
  {
   "cell_type": "markdown",
   "id": "4923f2e9-8cb5-4452-9ca9-a71d69a66cb9",
   "metadata": {},
   "source": [
    "### Exercise 5-4 FizzBuzz\n",
    "Instructions\n",
    "\n",
    "You are going to write a program that automatically prints the solution to the FizzBuzz game.\n",
    "\n",
    "    Your program should print each number from 1 to 100 in turn.\n",
    "\n",
    "    When the number is divisible by 3 then instead of printing the number it should print \"Fizz\".\n",
    "\n",
    "    `When the number is divisible by 5, then instead of printing the number it should print \"Buzz\".` \n",
    "\n",
    "      `And if the number is divisible by both 3 and 5 e.g. 15 then instead of the number it should print \"FizzBuzz\"`\n",
    "\n",
    "e.g. it might start off like this:\n",
    "\n",
    "`1\n",
    "2\n",
    "Fizz\n",
    "4\n",
    "Buzz\n",
    "Fizz\n",
    "7\n",
    "8\n",
    "Fizz\n",
    "Buzz\n",
    "11\n",
    "Fizz\n",
    "13\n",
    "14\n",
    "FizzBuzz`\n",
    "\n",
    ".... etc.\n",
    "Hint\n",
    "\n",
    "    Remember your answer should start from 1 and go up to and including 100.\n",
    "\n",
    "    Each number/text should be printed on a separate line.\n",
    "\n",
    "Solution\n",
    "\n",
    "https://repl.it/@appbrewery/day-5-4-solution\n",
    "\n",
    "Alternatively: https://en.wikipedia.org/wiki/Fizz_buzz"
   ]
  },
  {
   "cell_type": "code",
   "execution_count": 186,
   "id": "163c9bf2-5b9e-4cbe-8014-06d23e24e116",
   "metadata": {
    "collapsed": true,
    "jupyter": {
     "outputs_hidden": true
    },
    "tags": []
   },
   "outputs": [
    {
     "name": "stdout",
     "output_type": "stream",
     "text": [
      "1\n",
      "2\n",
      "Fizz\n",
      "4\n",
      "Buzz\n",
      "Fizz\n",
      "7\n",
      "8\n",
      "Fizz\n",
      "Buzz\n",
      "11\n",
      "Fizz\n",
      "13\n",
      "14\n",
      "FizzBuzz\n",
      "16\n",
      "17\n",
      "Fizz\n",
      "19\n",
      "Buzz\n",
      "Fizz\n",
      "22\n",
      "23\n",
      "Fizz\n",
      "Buzz\n",
      "26\n",
      "Fizz\n",
      "28\n",
      "29\n",
      "FizzBuzz\n",
      "31\n",
      "32\n",
      "Fizz\n",
      "34\n",
      "Buzz\n",
      "Fizz\n",
      "37\n",
      "38\n",
      "Fizz\n",
      "Buzz\n",
      "41\n",
      "Fizz\n",
      "43\n",
      "44\n",
      "FizzBuzz\n",
      "46\n",
      "47\n",
      "Fizz\n",
      "49\n",
      "Buzz\n",
      "Fizz\n",
      "52\n",
      "53\n",
      "Fizz\n",
      "Buzz\n",
      "56\n",
      "Fizz\n",
      "58\n",
      "59\n",
      "FizzBuzz\n",
      "61\n",
      "62\n",
      "Fizz\n",
      "64\n",
      "Buzz\n",
      "Fizz\n",
      "67\n",
      "68\n",
      "Fizz\n",
      "Buzz\n",
      "71\n",
      "Fizz\n",
      "73\n",
      "74\n",
      "FizzBuzz\n",
      "76\n",
      "77\n",
      "Fizz\n",
      "79\n",
      "Buzz\n",
      "Fizz\n",
      "82\n",
      "83\n",
      "Fizz\n",
      "Buzz\n",
      "86\n",
      "Fizz\n",
      "88\n",
      "89\n",
      "FizzBuzz\n",
      "91\n",
      "92\n",
      "Fizz\n",
      "94\n",
      "Buzz\n",
      "Fizz\n",
      "97\n",
      "98\n",
      "Fizz\n",
      "Buzz\n"
     ]
    }
   ],
   "source": [
    "for n in range(1,101):\n",
    "    if n%3 == 0 and n % 5 == 0:\n",
    "        print(\"FizzBuzz\")\n",
    "    elif n % 3 == 0:\n",
    "        print(\"Fizz\")\n",
    "    elif n % 5 == 0: \n",
    "        print(\"Buzz\")\n",
    "    else:\n",
    "        print(n)"
   ]
  },
  {
   "cell_type": "markdown",
   "id": "8d43b9ce-474d-4df4-9645-ab97df80bad6",
   "metadata": {},
   "source": [
    "### Exercise 5-final : Password Generator"
   ]
  },
  {
   "cell_type": "code",
   "execution_count": 198,
   "id": "c1318c58-74a4-413c-b9e9-496a36798921",
   "metadata": {},
   "outputs": [
    {
     "name": "stdout",
     "output_type": "stream",
     "text": [
      "Welcome to the PyPassword Generator!\n"
     ]
    },
    {
     "name": "stdin",
     "output_type": "stream",
     "text": [
      "How many letters would you like in your password?\n",
      " 4\n",
      "How many symbols would you like?\n",
      " 4\n",
      "How many numbers would you like?\n",
      " 4\n"
     ]
    },
    {
     "name": "stdout",
     "output_type": "stream",
     "text": [
      "7C+*Z+o!2R45\n"
     ]
    }
   ],
   "source": [
    "#Password Generator Project\n",
    "import random as rnd\n",
    "letters = ['a', 'b', 'c', 'd', 'e', 'f', 'g', 'h', 'i', 'j', 'k', 'l', 'm', 'n', 'o', 'p', 'q', 'r', 's', 't', 'u', 'v', 'w', 'x', 'y', 'z', 'A', 'B', 'C', 'D', 'E', 'F', 'G', 'H', 'I', 'J', 'K', 'L', 'M', 'N', 'O', 'P', 'Q', 'R', 'S', 'T', 'U', 'V', 'W', 'X', 'Y', 'Z']\n",
    "symbols = ['!', '#', '$', '%', '&', '(', ')', '*', '+']\n",
    "numbers = ['0', '1', '2', '3', '4', '5', '6', '7', '8', '9']\n",
    "\n",
    "print(\"Welcome to the PyPassword Generator!\")\n",
    "nr_letters= int(input(\"How many letters would you like in your password?\\n\")) \n",
    "nr_symbols = int(input(f\"How many symbols would you like?\\n\"))\n",
    "nr_numbers = int(input(f\"How many numbers would you like?\\n\"))\n",
    "\n",
    "#Eazy Level - Order not randomised:\n",
    "#e.g. 4 letter, 2 symbol, 2 number = JduE&!91\n",
    "\n",
    "#Hard Level - Order of characters randomised:\n",
    "#e.g. 4 letter, 2 symbol, 2 number = g^2jk8&P\n",
    "\n",
    "len_letters = len(letters)\n",
    "len_symbols = len(symbols)\n",
    "len_numbers = len(numbers)\n",
    "\n",
    "pw_letters = []\n",
    "pw_symbols = []\n",
    "pw_numbers = []\n",
    "\n",
    "for letter in range(1,nr_letters+1):\n",
    "    pw_letters.append(letters[rnd.randint(1,len_letters)-1])\n",
    "\n",
    "for symbol in range(1,nr_symbols+1):\n",
    "    pw_symbols.append(symbols[rnd.randint(1,len_symbols)-1])\n",
    "\n",
    "for number in range(1,nr_numbers+1):\n",
    "    pw_numbers.append(numbers[rnd.randint(1,len_numbers)-1])\n",
    "    \n",
    "pw_lists = pw_letters+pw_symbols+pw_numbers\n",
    "rnd.shuffle(pw_lists)\n",
    "pw =\"\"\n",
    "for item in pw_lists:\n",
    "    pw += item\n",
    "\n",
    "print(pw)"
   ]
  },
  {
   "cell_type": "markdown",
   "id": "d38172af-ff44-46d6-b614-42572bc0eb88",
   "metadata": {},
   "source": [
    "### Alternative with `choose` function from `random` module"
   ]
  },
  {
   "cell_type": "code",
   "execution_count": 203,
   "id": "69d46061-1b1c-4898-990c-0b99eed30c52",
   "metadata": {},
   "outputs": [
    {
     "name": "stdout",
     "output_type": "stream",
     "text": [
      "Welcome to the PyPassword Generator!\n"
     ]
    },
    {
     "name": "stdin",
     "output_type": "stream",
     "text": [
      "How many letters would you like in your password?\n",
      " 3\n",
      "How many symbols would you like?\n",
      " 3\n",
      "How many numbers would you like?\n",
      " 3\n"
     ]
    },
    {
     "name": "stdout",
     "output_type": "stream",
     "text": [
      "4I%Q&)2Y8\n"
     ]
    }
   ],
   "source": [
    "#Password Generator Project\n",
    "import random as rnd\n",
    "letters = ['a', 'b', 'c', 'd', 'e', 'f', 'g', 'h', 'i', 'j', 'k', 'l', 'm', 'n', 'o', 'p', 'q', 'r', 's', 't', 'u', 'v', 'w', 'x', 'y', 'z', 'A', 'B', 'C', 'D', 'E', 'F', 'G', 'H', 'I', 'J', 'K', 'L', 'M', 'N', 'O', 'P', 'Q', 'R', 'S', 'T', 'U', 'V', 'W', 'X', 'Y', 'Z']\n",
    "symbols = ['!', '#', '$', '%', '&', '(', ')', '*', '+']\n",
    "numbers = ['0', '1', '2', '3', '4', '5', '6', '7', '8', '9']\n",
    "\n",
    "print(\"Welcome to the PyPassword Generator!\")\n",
    "nr_letters= int(input(\"How many letters would you like in your password?\\n\")) \n",
    "nr_symbols = int(input(f\"How many symbols would you like?\\n\"))\n",
    "nr_numbers = int(input(f\"How many numbers would you like?\\n\"))\n",
    "\n",
    "#Eazy Level - Order not randomised:\n",
    "#e.g. 4 letter, 2 symbol, 2 number = JduE&!91\n",
    "\n",
    "#Hard Level - Order of characters randomised:\n",
    "#e.g. 4 letter, 2 symbol, 2 number = g^2jk8&P\n",
    "\n",
    "pw_letters = rnd.choices(letters, k = nr_letters)\n",
    "pw_symbols = rnd.choices(symbols, k = nr_symbols)\n",
    "pw_numbers = rnd.choices(numbers, k = nr_numbers)\n",
    "\n",
    "pw_list = pw_letters+pw_symbols+pw_numbers\n",
    "rnd.shuffle(pw_list)\n",
    "pw =\"\"\n",
    "for item in pw_lists:\n",
    "    pw += item\n",
    "\n",
    "print(pw)\n"
   ]
  },
  {
   "cell_type": "markdown",
   "id": "a6fd473f-d0cb-422e-8fa3-b6758ce141fc",
   "metadata": {},
   "source": [
    "### Personal Change\n",
    "give total password legth"
   ]
  },
  {
   "cell_type": "code",
   "execution_count": 204,
   "id": "e641a337-7650-40ea-8511-d08beb9d4cbb",
   "metadata": {},
   "outputs": [
    {
     "name": "stdout",
     "output_type": "stream",
     "text": [
      "Welcome to the PyPassword Generator!\n"
     ]
    },
    {
     "name": "stdin",
     "output_type": "stream",
     "text": [
      "How long do you want your password to be?\n",
      " 2\n",
      "How many symbols would you like?\n",
      " 3\n",
      "How many numbers would you like?\n",
      " 3\n"
     ]
    },
    {
     "ename": "SystemExit",
     "evalue": "Password length does not add up! Choose less symbols and numbers or make the password longer.",
     "output_type": "error",
     "traceback": [
      "An exception has occurred, use %tb to see the full traceback.\n",
      "\u001b[1;31mSystemExit\u001b[0m\u001b[1;31m:\u001b[0m Password length does not add up! Choose less symbols and numbers or make the password longer.\n"
     ]
    },
    {
     "name": "stderr",
     "output_type": "stream",
     "text": [
      "C:\\Users\\Erwin\\anaconda3\\lib\\site-packages\\IPython\\core\\interactiveshell.py:3445: UserWarning: To exit: use 'exit', 'quit', or Ctrl-D.\n",
      "  warn(\"To exit: use 'exit', 'quit', or Ctrl-D.\", stacklevel=1)\n"
     ]
    }
   ],
   "source": [
    "#Password Generator Project\n",
    "import random as rnd\n",
    "letters = ['a', 'b', 'c', 'd', 'e', 'f', 'g', 'h', 'i', 'j', 'k', 'l', 'm', 'n', 'o', 'p', 'q', 'r', 's', 't', 'u', 'v', 'w', 'x', 'y', 'z', 'A', 'B', 'C', 'D', 'E', 'F', 'G', 'H', 'I', 'J', 'K', 'L', 'M', 'N', 'O', 'P', 'Q', 'R', 'S', 'T', 'U', 'V', 'W', 'X', 'Y', 'Z']\n",
    "symbols = ['!', '#', '$', '%', '&', '(', ')', '*', '+']\n",
    "numbers = ['0', '1', '2', '3', '4', '5', '6', '7', '8', '9']\n",
    "\n",
    "print(\"Welcome to the PyPassword Generator!\")\n",
    "nr_length= int(input(\"How long do you want your password to be?\\n\")) \n",
    "nr_symbols = int(input(f\"How many symbols thereof would you like?\\n\"))\n",
    "nr_numbers = int(input(f\"How many numbers thereof would you like?\\n\"))\n",
    "\n",
    "#Eazy Level - Order not randomised:\n",
    "#e.g. 4 letter, 2 symbol, 2 number = JduE&!91\n",
    "\n",
    "#Hard Level - Order of characters randomised:\n",
    "#e.g. 4 letter, 2 symbol, 2 number = g^2jk8&P\n",
    "\n",
    "if nr_length-nr_symbols-nr_numbers < 0:\n",
    "    raise SystemExit(\"Password length does not add up! Choose less symbols and numbers or make the password longer.\")\n",
    "\n",
    "    \n",
    "pw_letters = rnd.choices(letters, k = (nr_length-nr_symbols-nr_numbers))\n",
    "pw_symbols = rnd.choices(symbols, k = nr_symbols)\n",
    "pw_numbers = rnd.choices(numbers, k = nr_numbers)\n",
    "\n",
    "pw_list = pw_letters+pw_symbols+pw_numbers\n",
    "rnd.shuffle(pw_list)\n",
    "pw =\"\"\n",
    "for item in pw_lists:\n",
    "    pw += item\n",
    "\n",
    "print(pw)\n"
   ]
  },
  {
   "cell_type": "code",
   "execution_count": null,
   "id": "05d1a7ec-50c5-435c-ab64-c6dc86119d94",
   "metadata": {},
   "outputs": [],
   "source": []
  }
 ],
 "metadata": {
  "kernelspec": {
   "display_name": "Python 3",
   "language": "python",
   "name": "python3"
  },
  "language_info": {
   "codemirror_mode": {
    "name": "ipython",
    "version": 3
   },
   "file_extension": ".py",
   "mimetype": "text/x-python",
   "name": "python",
   "nbconvert_exporter": "python",
   "pygments_lexer": "ipython3",
   "version": "3.7.10"
  }
 },
 "nbformat": 4,
 "nbformat_minor": 5
}
