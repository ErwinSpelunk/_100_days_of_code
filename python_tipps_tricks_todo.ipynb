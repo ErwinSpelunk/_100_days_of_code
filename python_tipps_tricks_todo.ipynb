{
 "cells": [
  {
   "cell_type": "markdown",
   "id": "ace55363",
   "metadata": {},
   "source": [
    "# Python Things To Read and/or Remember\n",
    "\n",
    "DATE: 2021-05-05"
   ]
  },
  {
   "cell_type": "markdown",
   "id": "75a31d2c",
   "metadata": {},
   "source": [
    "Conditionals, if elif else\n",
    "\n",
    "if condition:\n",
    "    do this\n",
    "else:\n",
    "    do that\n",
    "    \n",
    "comparators: >,<,>=,<=, ==, !=\n",
    "\n",
    "### !!!\n",
    "\n",
    "a = b ... is an *assignment*\n",
    "\n",
    "a == b ... is a *check for equality*"
   ]
  },
  {
   "cell_type": "markdown",
   "id": "a3d52095-1a62-4867-84a9-54b7f279d883",
   "metadata": {},
   "source": [
    "## IF vs ELIF\n",
    "if condition1:\n",
    "    do A\n",
    "    \n",
    "elif condition2:\n",
    "    do B\n",
    "    \n",
    "else condition3:\n",
    "    do C\n",
    "    \n",
    "\n",
    "\n",
    "condition2 is met, but also condition3 then ONLY B will be executed\n",
    "\n",
    "if condition1:\n",
    "    do A\n",
    "    \n",
    "if condition2:\n",
    "    do B\n",
    "    \n",
    "if condition3:\n",
    "    do C\n",
    "    \n",
    "\n",
    "condition2 is met, but also condition3 then B AND C will be executed"
   ]
  },
  {
   "cell_type": "markdown",
   "id": "33d70681-3cf7-4d2a-bcd7-d3ad7de020c5",
   "metadata": {},
   "source": [
    "## Data Structures / List Comprehension\n",
    "\n",
    "https://docs.python.org/3/tutorial/datastructures.html#list-comprehensions\n",
    "\n",
    "## Generator Expressions\n",
    "\n",
    "https://www.python.org/dev/peps/pep-0289/"
   ]
  },
  {
   "cell_type": "markdown",
   "id": "9504194a-e111-4381-9c0d-697881774b65",
   "metadata": {},
   "source": [
    "## Lambda Functions\n",
    "\n",
    "https://realpython.com/python-lambda/"
   ]
  },
  {
   "cell_type": "markdown",
   "id": "83227138-d530-409a-aa9f-d87a1523e3e0",
   "metadata": {},
   "source": [
    "## Break Continue Exit?"
   ]
  }
 ],
 "metadata": {
  "kernelspec": {
   "display_name": "Python 3",
   "language": "python",
   "name": "python3"
  },
  "language_info": {
   "codemirror_mode": {
    "name": "ipython",
    "version": 3
   },
   "file_extension": ".py",
   "mimetype": "text/x-python",
   "name": "python",
   "nbconvert_exporter": "python",
   "pygments_lexer": "ipython3",
   "version": "3.7.10"
  }
 },
 "nbformat": 4,
 "nbformat_minor": 5
}
